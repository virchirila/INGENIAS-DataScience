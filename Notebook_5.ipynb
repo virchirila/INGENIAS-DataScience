{
 "cells": [
  {
   "cell_type": "markdown",
   "metadata": {
    "id": "Gp2WddtV9IwG"
   },
   "source": [
    "# Programa Ingenias+ Data Science"
   ]
  },
  {
   "cell_type": "markdown",
   "metadata": {
    "id": "H4M1yVbf9IwH"
   },
   "source": [
    "Como dijimos en clases anteriores, Python tiene implementadas muchas librerias para poder trabajar con datos. En la clase de hoy trabajaremos con una de ellas: `Numpy`."
   ]
  },
  {
   "cell_type": "markdown",
   "metadata": {
    "id": "GdTT8WeL9IwI"
   },
   "source": [
    "Antes de comenzar, vamos a hablar un poco de esta libreria o modulo.\n",
    "\n",
    "**Numpy** es una librería optimizada para realizar cálculos numéricos con vectores y matrices. A diferencia de otros lenguajes de programación, Python no posee en su estructura central la figura de matrices. Eso quiere decir que para poder trabajar con esta estructura de datos deberiamos trabajar con listas de listas. NumPy introduce el concepto de arrays o matrices."
   ]
  },
  {
   "cell_type": "markdown",
   "metadata": {
    "id": "qWkq3EHK9IwK"
   },
   "source": [
    "Al ser de código abierto, `numpy` posee una documentación muy amplia que es **SIEMPRE RECOMENDABLE** consultar."
   ]
  },
  {
   "cell_type": "markdown",
   "metadata": {
    "id": "nxe3KLUO9IwL"
   },
   "source": [
    "- [Documentacion NumPy](https://devdocs.io/numpy/)"
   ]
  },
  {
   "cell_type": "markdown",
   "metadata": {
    "id": "l1Ay3nSs9IwN"
   },
   "source": [
    "## Clase 4: Introduccion a NumPy"
   ]
  },
  {
   "cell_type": "markdown",
   "metadata": {
    "id": "X03mviQS9IyL"
   },
   "source": [
    "# Ejercicios\n",
    "\n",
    "1. Crear un arreglo de ceros de longitud 12\n",
    "2. Crear un arreglo de longitud 10 con ceros en todas sus posiciones y un 10 en la posición número 5\n",
    "3. Crear un arreglo que tenga los números del 10 al 49\n",
    "4. Crear una arreglo 2d de shape (3, 3) que tenga los números del 0 al 8\n",
    "5. Crear un arreglo de números aleatorios de longitud 100 y obtener su media y varianza\n",
    "6. Calcular la media de un arreglo usando np.sum\n",
    "7. Calcular la varianza de un arreglo usando np.sum y np.mean\n",
    "8. Crear un array de números aleatorios usando np.random.randn.\n"
   ]
  },
  {
   "cell_type": "code",
   "execution_count": 1,
   "metadata": {},
   "outputs": [],
   "source": [
    "#Importar numpy\n",
    "import numpy as np"
   ]
  },
  {
   "cell_type": "code",
   "execution_count": 3,
   "metadata": {
    "id": "G0NMKT609IyM"
   },
   "outputs": [
    {
     "name": "stdout",
     "output_type": "stream",
     "text": [
      "[0. 0. 0. 0. 0. 0. 0. 0. 0. 0. 0. 0.]\n"
     ]
    }
   ],
   "source": [
    "# Ejercicio 1. Crear un arreglo de ceros de longitud 12\n",
    "print(np.zeros(12))"
   ]
  },
  {
   "cell_type": "code",
   "execution_count": 8,
   "metadata": {},
   "outputs": [
    {
     "name": "stdout",
     "output_type": "stream",
     "text": [
      "[ 0.  0.  0.  0.  0. 10.  0.  0.  0.  0.]\n"
     ]
    }
   ],
   "source": [
    "#Ejercicio 2. Crear un arreglo de longitud 10 con ceros en todas sus posiciones y un 10 en la posición número 5\n",
    "arreglo = np.zeros(10)\n",
    "arreglo[5]= 10\n",
    "print(arreglo)"
   ]
  },
  {
   "cell_type": "code",
   "execution_count": 24,
   "metadata": {},
   "outputs": [
    {
     "name": "stdout",
     "output_type": "stream",
     "text": [
      "[10 11 12 13 14 15 16 17 18 19 20 21 22 23 24 25 26 27 28 29 30 31 32 33\n",
      " 34 35 36 37 38 39 40 41 42 43 44 45 46 47 48 49]\n"
     ]
    }
   ],
   "source": [
    "#Ejercicio 3. Crear un arreglo que tenga los números del 10 al 49\n",
    "print(np.arange(10,50,1))"
   ]
  },
  {
   "cell_type": "code",
   "execution_count": 28,
   "metadata": {},
   "outputs": [
    {
     "name": "stdout",
     "output_type": "stream",
     "text": [
      "[[0 1 2]\n",
      " [3 4 5]\n",
      " [6 7 8]]\n"
     ]
    }
   ],
   "source": [
    "#Ejercicio 4. Crear una arreglo 2d de shape (3, 3) que tenga los números del 0 al 8\n",
    "lista = [[0,1,2],[3,4,5],[6,7,8]]\n",
    "array2 = np.array(lista)\n",
    "print(array2)"
   ]
  },
  {
   "cell_type": "code",
   "execution_count": 37,
   "metadata": {},
   "outputs": [
    {
     "name": "stdout",
     "output_type": "stream",
     "text": [
      "[5.82831776e-01 2.94053899e-01 9.41993324e-02 1.77682139e-01\n",
      " 2.86149177e-01 5.04439478e-02 3.17175468e-02 9.88009191e-01\n",
      " 6.34910901e-01 6.28397670e-01 1.83769288e-01 6.62958815e-01\n",
      " 1.30832174e-01 9.00072655e-01 9.55396611e-01 8.72336610e-01\n",
      " 1.34543573e-04 9.71595020e-01 2.81685679e-01 4.94067026e-01\n",
      " 3.45423048e-02 3.69351295e-02 4.20888285e-01 2.72098600e-01\n",
      " 3.27350574e-01 4.19541928e-01 3.40274984e-01 9.48881608e-01\n",
      " 5.06552166e-01 9.82501704e-01 2.45912163e-01 3.37062282e-01\n",
      " 1.53272350e-01 7.47170074e-01 8.60288650e-01 4.37971061e-01\n",
      " 6.19603107e-01 4.71703798e-01 4.43224300e-01 7.15633572e-01\n",
      " 5.54621377e-01 1.57218493e-01 4.63672584e-01 8.78742047e-01\n",
      " 8.79703263e-01 3.53528685e-01 1.07893474e-02 9.55283686e-01\n",
      " 2.05950881e-01 4.42890052e-01 9.82242128e-01 6.70449200e-01\n",
      " 6.24032074e-01 1.71616062e-01 2.52466591e-01 2.57506290e-01\n",
      " 5.90163609e-01 4.47544386e-03 5.37131664e-01 8.67088469e-01\n",
      " 8.46886195e-01 8.24531111e-01 8.45629474e-01 2.39362695e-02\n",
      " 4.96214215e-02 9.13922826e-01 8.03359936e-01 3.22751036e-01\n",
      " 9.30402570e-01 1.60051867e-01 2.20617399e-01 8.07729680e-01\n",
      " 5.34083998e-01 6.62444558e-01 3.42211995e-01 7.90147532e-01\n",
      " 9.64384611e-01 3.91917286e-01 4.55362315e-01 9.20524388e-01\n",
      " 8.26242592e-01 7.12058199e-01 5.59292699e-01 5.72812925e-01\n",
      " 5.82866630e-01 2.35454032e-01 1.87878295e-01 3.71269893e-01\n",
      " 9.42533226e-02 9.98541896e-01 4.30089930e-01 8.53799531e-01\n",
      " 3.85963749e-01 7.94596118e-01 2.17611088e-01 5.10695888e-01\n",
      " 2.53145576e-01 2.77944828e-01 3.93307636e-01 8.45938914e-01]\n"
     ]
    }
   ],
   "source": [
    "#Ejercicio 5. Crear un arreglo de números aleatorios de longitud 100 y obtener su media y varianza\n",
    "array3 = np.random.rand(100)#Con distribución de probabilidades uniforme\n",
    "print(array3)"
   ]
  },
  {
   "cell_type": "code",
   "execution_count": 62,
   "metadata": {},
   "outputs": [
    {
     "data": {
      "text/plain": [
       "'La media es: 0.503'"
      ]
     },
     "execution_count": 62,
     "metadata": {},
     "output_type": "execute_result"
    }
   ],
   "source": [
    "f\"La media es: {round(np.mean(array3),3)}\""
   ]
  },
  {
   "cell_type": "code",
   "execution_count": 63,
   "metadata": {},
   "outputs": [
    {
     "data": {
      "text/plain": [
       "'La varianza es: 0.091'"
      ]
     },
     "execution_count": 63,
     "metadata": {},
     "output_type": "execute_result"
    }
   ],
   "source": [
    "f\"La varianza es: {round(np.var(array3),3)}\""
   ]
  },
  {
   "cell_type": "code",
   "execution_count": 59,
   "metadata": {},
   "outputs": [
    {
     "data": {
      "text/plain": [
       "0.5031650479713501"
      ]
     },
     "execution_count": 59,
     "metadata": {},
     "output_type": "execute_result"
    }
   ],
   "source": [
    "#Ejercicio 6. Calcular la media de un arreglo usando np.sum\n",
    "np.sum(array3)/len(array3)"
   ]
  },
  {
   "cell_type": "code",
   "execution_count": 56,
   "metadata": {},
   "outputs": [
    {
     "name": "stdout",
     "output_type": "stream",
     "text": [
      "0.09156473408492594\n"
     ]
    }
   ],
   "source": [
    "#Ejercicio 7. Calcular la varianza de un arreglo usando np.sum y np.mean\n",
    "lista1 = []\n",
    "conteo =0\n",
    "for i in array3:\n",
    "    dif= (i-np.mean(array3))**2\n",
    "    lista1.append(dif)\n",
    "    conteo+=1\n",
    "df = len(array3)-1\n",
    "print(np.sum(np.array(lista1))/df)\n"
   ]
  },
  {
   "cell_type": "code",
   "execution_count": 60,
   "metadata": {},
   "outputs": [
    {
     "name": "stdout",
     "output_type": "stream",
     "text": [
      "0.09156473408492596\n"
     ]
    }
   ],
   "source": [
    "#Otra opción sin np.sum\n",
    "suma=0\n",
    "for i in array3:\n",
    "    dif= (i-np.mean(array3))**2\n",
    "    df = len(array3)-1\n",
    "    suma += dif\n",
    "print(suma/df)"
   ]
  },
  {
   "cell_type": "code",
   "execution_count": 66,
   "metadata": {},
   "outputs": [
    {
     "name": "stdout",
     "output_type": "stream",
     "text": [
      "[ 0.78177812 -0.36700988 -0.96764756  1.15347247 -1.50155836  0.61919296\n",
      "  1.75758513 -1.4912395  -2.0740913  -0.72368954 -0.46895437  0.30071037\n",
      "  1.15273932 -1.47207511  0.57355593 -1.41316008  1.20154058  0.06914268\n",
      "  1.70866355 -1.04638796 -1.42126041  0.32322433  1.57992139 -0.01731771\n",
      "  0.02002843 -0.31942835 -0.61558767  0.51106504  0.26458136  1.41818785\n",
      "  0.08558937  0.25701995  0.11328581  0.3105467   1.954388    0.68776003\n",
      " -1.04498059  1.63788729  0.88816711  0.90942549  0.08375893 -1.23043595\n",
      "  0.62310316 -1.92622358 -1.15378894  1.13898297 -0.82291071 -0.28399507\n",
      "  0.18560517 -0.37321037]\n"
     ]
    }
   ],
   "source": [
    "#Ejercicio 8. Crear un array de números aleatorios usando np.random.randn.\n",
    "array4 = np.random.randn(50)\n",
    "print(array4)"
   ]
  }
 ],
 "metadata": {
  "colab": {
   "provenance": [
    {
     "file_id": "1yM9mEW0U6gxoaAFhZyw2DpZdZMT5v10J",
     "timestamp": 1676044383219
    },
    {
     "file_id": "1RzLcI0RY1YrYoMa7PW17OME9qOO4jJ4s",
     "timestamp": 1676044338043
    }
   ]
  },
  "kernelspec": {
   "display_name": "Python 3 (ipykernel)",
   "language": "python",
   "name": "python3"
  },
  "language_info": {
   "codemirror_mode": {
    "name": "ipython",
    "version": 3
   },
   "file_extension": ".py",
   "mimetype": "text/x-python",
   "name": "python",
   "nbconvert_exporter": "python",
   "pygments_lexer": "ipython3",
   "version": "3.11.7"
  }
 },
 "nbformat": 4,
 "nbformat_minor": 4
}
