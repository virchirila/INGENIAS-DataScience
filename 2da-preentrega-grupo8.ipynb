{
 "cells": [
  {
   "cell_type": "markdown",
   "id": "8315600e",
   "metadata": {},
   "source": [
    "# Segunda preentrega - Curso Data Science INGENIAS"
   ]
  },
  {
   "cell_type": "markdown",
   "id": "b7ac4c11",
   "metadata": {},
   "source": [
    "## Integrantes"
   ]
  },
  {
   "cell_type": "markdown",
   "id": "26a8c1b1",
   "metadata": {},
   "source": [
    "   * Cristina Betancur\n",
    "   * Melani Caucota\n",
    "   * Maribel Carrasco\n",
    "   * Virginia Chirilá"
   ]
  },
  {
   "cell_type": "markdown",
   "id": "ff071307",
   "metadata": {},
   "source": [
    "## Dataset elegido"
   ]
  },
  {
   "cell_type": "markdown",
   "id": "d8b49d27",
   "metadata": {},
   "source": [
    "Encuesta Anual de Hogares del año 2019 de la Ciudad Autónoma de Buenos Aires (CABA) realizado por la Dirección General de Estadísticas y Censos."
   ]
  },
  {
   "cell_type": "markdown",
   "id": "53710d86",
   "metadata": {},
   "source": [
    "### Fuente\n",
    "https://data.buenosaires.gob.ar/dataset/encuesta-anual-hogares/resource/3a45c563-396d-42de-ba93-8a93729e0723"
   ]
  },
  {
   "cell_type": "markdown",
   "id": "7dcab463",
   "metadata": {},
   "source": [
    "## Objetivo"
   ]
  },
  {
   "cell_type": "markdown",
   "id": "46cbf936",
   "metadata": {},
   "source": [
    "El objetivo de este trabajo consiste en realizar un análisis exploratorio de los datos del dataset mencionado,  llevar adelante las transformaciones necesarias y la generación de nuevas variables y realizar un análisis predictivo sobre el nivel de ingresos de las personas de CABA, tomando como unidad de estudio a las personas y no a los hogares. En particular, se busca estudiar cómo inciden determinadas variables demográficas y socio-económicas en el nivel de ingresos de las personas tales como aspectos etarios y demográficos (edad, comuna, dominio y lugar de nacimiento), aspectos socio-laborales (estado_ocupacional, categoria ocupacional, calidad de ingresos laborables, calidad_ingresos_no_laborables, calidad de ingresos totales y calidad de ingresos familiars), aspectos educativos (estado educativo, sector educativo, nivel actual, nivel máximo educativo y años de escolaridad) , y de salud (afiliación de salud).\n"
   ]
  },
  {
   "cell_type": "markdown",
   "id": "406b582a",
   "metadata": {},
   "source": [
    "## Librerías"
   ]
  },
  {
   "cell_type": "code",
   "execution_count": 46,
   "id": "02497e0e",
   "metadata": {},
   "outputs": [],
   "source": [
    "#Importando librerias\n",
    "import numpy as np\n",
    "import pandas as pd\n",
    "import matplotlib.pyplot as plt\n",
    "import seaborn as sns\n",
    "from scipy import stats\n",
    "import sklearn\n",
    "from sklearn.preprocessing import MinMaxScaler\n",
    "from sklearn.preprocessing import Normalizer"
   ]
  },
  {
   "cell_type": "markdown",
   "id": "7b170a38",
   "metadata": {},
   "source": [
    "## Data set"
   ]
  },
  {
   "cell_type": "code",
   "execution_count": 47,
   "id": "75a8647c",
   "metadata": {},
   "outputs": [],
   "source": [
    "# Importo archivo csv\n",
    "datos = pd.read_csv(\"encuesta-anual-hogares-2019.csv\", delimiter=',')"
   ]
  },
  {
   "cell_type": "code",
   "execution_count": 48,
   "id": "50ba9903",
   "metadata": {},
   "outputs": [
    {
     "data": {
      "text/html": [
       "<div>\n",
       "<style scoped>\n",
       "    .dataframe tbody tr th:only-of-type {\n",
       "        vertical-align: middle;\n",
       "    }\n",
       "\n",
       "    .dataframe tbody tr th {\n",
       "        vertical-align: top;\n",
       "    }\n",
       "\n",
       "    .dataframe thead th {\n",
       "        text-align: right;\n",
       "    }\n",
       "</style>\n",
       "<table border=\"1\" class=\"dataframe\">\n",
       "  <thead>\n",
       "    <tr style=\"text-align: right;\">\n",
       "      <th></th>\n",
       "      <th>id</th>\n",
       "      <th>nhogar</th>\n",
       "      <th>miembro</th>\n",
       "      <th>comuna</th>\n",
       "      <th>dominio</th>\n",
       "      <th>edad</th>\n",
       "      <th>sexo</th>\n",
       "      <th>parentesco_jefe</th>\n",
       "      <th>situacion_conyugal</th>\n",
       "      <th>num_miembro_padre</th>\n",
       "      <th>...</th>\n",
       "      <th>ingreso_per_capita_familiar</th>\n",
       "      <th>estado_educativo</th>\n",
       "      <th>sector_educativo</th>\n",
       "      <th>nivel_actual</th>\n",
       "      <th>nivel_max_educativo</th>\n",
       "      <th>años_escolaridad</th>\n",
       "      <th>lugar_nacimiento</th>\n",
       "      <th>afiliacion_salud</th>\n",
       "      <th>hijos_nacidos_vivos</th>\n",
       "      <th>cantidad_hijos_nac_vivos</th>\n",
       "    </tr>\n",
       "  </thead>\n",
       "  <tbody>\n",
       "    <tr>\n",
       "      <th>0</th>\n",
       "      <td>1</td>\n",
       "      <td>1</td>\n",
       "      <td>1</td>\n",
       "      <td>5</td>\n",
       "      <td>Resto de la Ciudad</td>\n",
       "      <td>18</td>\n",
       "      <td>Mujer</td>\n",
       "      <td>Jefe</td>\n",
       "      <td>Soltero/a</td>\n",
       "      <td>Padre no vive en el hogar</td>\n",
       "      <td>...</td>\n",
       "      <td>9000</td>\n",
       "      <td>Asiste</td>\n",
       "      <td>Estatal/publico</td>\n",
       "      <td>Universitario</td>\n",
       "      <td>Otras escuelas especiales</td>\n",
       "      <td>12</td>\n",
       "      <td>PBA excepto GBA</td>\n",
       "      <td>Solo obra social</td>\n",
       "      <td>No</td>\n",
       "      <td>No corresponde</td>\n",
       "    </tr>\n",
       "    <tr>\n",
       "      <th>1</th>\n",
       "      <td>1</td>\n",
       "      <td>1</td>\n",
       "      <td>2</td>\n",
       "      <td>5</td>\n",
       "      <td>Resto de la Ciudad</td>\n",
       "      <td>18</td>\n",
       "      <td>Mujer</td>\n",
       "      <td>Otro no familiar</td>\n",
       "      <td>Soltero/a</td>\n",
       "      <td>Padre no vive en el hogar</td>\n",
       "      <td>...</td>\n",
       "      <td>9000</td>\n",
       "      <td>Asiste</td>\n",
       "      <td>Estatal/publico</td>\n",
       "      <td>Universitario</td>\n",
       "      <td>Otras escuelas especiales</td>\n",
       "      <td>12</td>\n",
       "      <td>Otra provincia</td>\n",
       "      <td>Solo plan de medicina prepaga por contratación...</td>\n",
       "      <td>No</td>\n",
       "      <td>No corresponde</td>\n",
       "    </tr>\n",
       "    <tr>\n",
       "      <th>2</th>\n",
       "      <td>2</td>\n",
       "      <td>1</td>\n",
       "      <td>1</td>\n",
       "      <td>2</td>\n",
       "      <td>Resto de la Ciudad</td>\n",
       "      <td>18</td>\n",
       "      <td>Varon</td>\n",
       "      <td>Jefe</td>\n",
       "      <td>Soltero/a</td>\n",
       "      <td>Padre no vive en el hogar</td>\n",
       "      <td>...</td>\n",
       "      <td>33333</td>\n",
       "      <td>Asiste</td>\n",
       "      <td>Privado religioso</td>\n",
       "      <td>Universitario</td>\n",
       "      <td>Otras escuelas especiales</td>\n",
       "      <td>12</td>\n",
       "      <td>CABA</td>\n",
       "      <td>Solo plan de medicina prepaga por contratación...</td>\n",
       "      <td>NaN</td>\n",
       "      <td>No corresponde</td>\n",
       "    </tr>\n",
       "    <tr>\n",
       "      <th>3</th>\n",
       "      <td>2</td>\n",
       "      <td>1</td>\n",
       "      <td>2</td>\n",
       "      <td>2</td>\n",
       "      <td>Resto de la Ciudad</td>\n",
       "      <td>50</td>\n",
       "      <td>Mujer</td>\n",
       "      <td>Padre/Madre/Suegro/a</td>\n",
       "      <td>Viudo/a</td>\n",
       "      <td>No corresponde</td>\n",
       "      <td>...</td>\n",
       "      <td>33333</td>\n",
       "      <td>No asiste pero asistió</td>\n",
       "      <td>No corresponde</td>\n",
       "      <td>No corresponde</td>\n",
       "      <td>Secundario/medio comun</td>\n",
       "      <td>17</td>\n",
       "      <td>CABA</td>\n",
       "      <td>Solo prepaga o mutual via OS</td>\n",
       "      <td>Si</td>\n",
       "      <td>2</td>\n",
       "    </tr>\n",
       "    <tr>\n",
       "      <th>4</th>\n",
       "      <td>2</td>\n",
       "      <td>1</td>\n",
       "      <td>3</td>\n",
       "      <td>2</td>\n",
       "      <td>Resto de la Ciudad</td>\n",
       "      <td>17</td>\n",
       "      <td>Varon</td>\n",
       "      <td>Otro familiar</td>\n",
       "      <td>Soltero/a</td>\n",
       "      <td>Padre no vive en el hogar</td>\n",
       "      <td>...</td>\n",
       "      <td>33333</td>\n",
       "      <td>Asiste</td>\n",
       "      <td>Privado religioso</td>\n",
       "      <td>Secundario/medio comun</td>\n",
       "      <td>EGB (1° a 9° año)</td>\n",
       "      <td>10</td>\n",
       "      <td>CABA</td>\n",
       "      <td>Solo plan de medicina prepaga por contratación...</td>\n",
       "      <td>NaN</td>\n",
       "      <td>No corresponde</td>\n",
       "    </tr>\n",
       "  </tbody>\n",
       "</table>\n",
       "<p>5 rows × 31 columns</p>\n",
       "</div>"
      ],
      "text/plain": [
       "   id  nhogar  miembro  comuna             dominio  edad   sexo  \\\n",
       "0   1       1        1       5  Resto de la Ciudad    18  Mujer   \n",
       "1   1       1        2       5  Resto de la Ciudad    18  Mujer   \n",
       "2   2       1        1       2  Resto de la Ciudad    18  Varon   \n",
       "3   2       1        2       2  Resto de la Ciudad    50  Mujer   \n",
       "4   2       1        3       2  Resto de la Ciudad    17  Varon   \n",
       "\n",
       "        parentesco_jefe situacion_conyugal          num_miembro_padre  ...  \\\n",
       "0                  Jefe          Soltero/a  Padre no vive en el hogar  ...   \n",
       "1      Otro no familiar          Soltero/a  Padre no vive en el hogar  ...   \n",
       "2                  Jefe          Soltero/a  Padre no vive en el hogar  ...   \n",
       "3  Padre/Madre/Suegro/a            Viudo/a             No corresponde  ...   \n",
       "4         Otro familiar          Soltero/a  Padre no vive en el hogar  ...   \n",
       "\n",
       "  ingreso_per_capita_familiar        estado_educativo   sector_educativo  \\\n",
       "0                        9000                  Asiste    Estatal/publico   \n",
       "1                        9000                  Asiste    Estatal/publico   \n",
       "2                       33333                  Asiste  Privado religioso   \n",
       "3                       33333  No asiste pero asistió     No corresponde   \n",
       "4                       33333                  Asiste  Privado religioso   \n",
       "\n",
       "             nivel_actual        nivel_max_educativo años_escolaridad  \\\n",
       "0           Universitario  Otras escuelas especiales               12   \n",
       "1           Universitario  Otras escuelas especiales               12   \n",
       "2           Universitario  Otras escuelas especiales               12   \n",
       "3          No corresponde     Secundario/medio comun               17   \n",
       "4  Secundario/medio comun          EGB (1° a 9° año)               10   \n",
       "\n",
       "   lugar_nacimiento                                   afiliacion_salud  \\\n",
       "0   PBA excepto GBA                                   Solo obra social   \n",
       "1    Otra provincia  Solo plan de medicina prepaga por contratación...   \n",
       "2              CABA  Solo plan de medicina prepaga por contratación...   \n",
       "3              CABA                       Solo prepaga o mutual via OS   \n",
       "4              CABA  Solo plan de medicina prepaga por contratación...   \n",
       "\n",
       "   hijos_nacidos_vivos cantidad_hijos_nac_vivos  \n",
       "0                   No           No corresponde  \n",
       "1                   No           No corresponde  \n",
       "2                  NaN           No corresponde  \n",
       "3                   Si                        2  \n",
       "4                  NaN           No corresponde  \n",
       "\n",
       "[5 rows x 31 columns]"
      ]
     },
     "execution_count": 48,
     "metadata": {},
     "output_type": "execute_result"
    }
   ],
   "source": [
    "# Inspecciono las 5 primeras filas\n",
    "datos.head(5)"
   ]
  },
  {
   "cell_type": "markdown",
   "id": "1f3df448",
   "metadata": {},
   "source": [
    "### Dimensiones data set"
   ]
  },
  {
   "cell_type": "code",
   "execution_count": 49,
   "id": "f98a75e3",
   "metadata": {},
   "outputs": [
    {
     "data": {
      "text/plain": [
       "(14319, 31)"
      ]
     },
     "execution_count": 49,
     "metadata": {},
     "output_type": "execute_result"
    }
   ],
   "source": [
    "# Utilizamos el método .shape para obtener las dimensiones del data frame: cantidad de filas y columnas\n",
    "datos.shape"
   ]
  },
  {
   "cell_type": "markdown",
   "id": "62691cf6",
   "metadata": {},
   "source": [
    "## Variables"
   ]
  },
  {
   "cell_type": "markdown",
   "id": "6fd616a6",
   "metadata": {},
   "source": [
    "El data frame brinda información sobre la situación socioeconómica de la población de la Ciudad de Buenos Aires, sus hogares y sus viviendas. Contiene variables relacionadas a vivienda y hábitat, hogares (tamaño y composición de los hogares), características demográficas básicas de la población (composición y estructura, situación conyugal, migración), trabajo y empleo (situación de la población en el mercado de trabajo, características ocupacionales), ingresos (laborales y no laborales), educación (asistencia al sistema de educación formal, nivel educativo de la población), salud (tipo de cobertura, consultas al\n",
    "médico, estado general de salud) y fecundidad."
   ]
  },
  {
   "cell_type": "markdown",
   "id": "ca0c036c",
   "metadata": {},
   "source": [
    "### Nombre de las variables"
   ]
  },
  {
   "cell_type": "code",
   "execution_count": 50,
   "id": "53c07b5f",
   "metadata": {},
   "outputs": [
    {
     "data": {
      "text/plain": [
       "Index(['id', 'nhogar', 'miembro', 'comuna', 'dominio', 'edad', 'sexo',\n",
       "       'parentesco_jefe', 'situacion_conyugal', 'num_miembro_padre',\n",
       "       'num_miembro_madre', 'estado_ocupacional', 'cat_ocupacional',\n",
       "       'calidad_ingresos_lab', 'ingreso_total_lab', 'calidad_ingresos_no_lab',\n",
       "       'ingreso_total_no_lab', 'calidad_ingresos_totales', 'ingresos_totales',\n",
       "       'calidad_ingresos_familiares', 'ingresos_familiares',\n",
       "       'ingreso_per_capita_familiar', 'estado_educativo', 'sector_educativo',\n",
       "       'nivel_actual', 'nivel_max_educativo', 'años_escolaridad',\n",
       "       'lugar_nacimiento', 'afiliacion_salud', 'hijos_nacidos_vivos',\n",
       "       'cantidad_hijos_nac_vivos'],\n",
       "      dtype='object')"
      ]
     },
     "execution_count": 50,
     "metadata": {},
     "output_type": "execute_result"
    }
   ],
   "source": [
    "#Obtengo nombre de las columnas\n",
    "datos.columns"
   ]
  },
  {
   "cell_type": "markdown",
   "id": "a32a7c49",
   "metadata": {},
   "source": [
    "### Descripción de variables"
   ]
  },
  {
   "cell_type": "markdown",
   "id": "56bb1384",
   "metadata": {},
   "source": [
    "1. **id:** Clave que identifica a la vivienda  \n",
    "2. **nhogar:** La variable id + nhogar componen la clave que identifica a cada hogar  \n",
    "3. **miembro:** Variables id + nhogar+ miembro componen la clave que identifica a cada persona  \n",
    "4. **comuna:** Comuna donde reside la persona encuestada. _Variable categórica nominal con 15 niveles: números de comuna del uno al 15._\n",
    "5. **dominio:** Variable categórica que indica si la vivienda se ubica en una villa de emergencia. _Variable categórica nominal con dos niveles: 'Resto de la Ciudad' y 'Villas de emergencia'_\n",
    "6. **edad:**\tEdad de la persona encuestada. _Variable cuantitativa discreta._\n",
    "7. **sexo:**\tSexo de la persona encuestada. _Variable categórica binaria con dos niveles: 'Mujer' y 'Varon'._\n",
    "8. **parentesco_jefe:** Variable categórica que indica la relación de parentesco entre la persona encuestada y el jefe/a de hogar. _Variable categórica nominal con 9 niveles: 'Jefe', 'Otro no familiar', 'Padre/Madre/Suegro/a','Otro familiar', 'Conyugue o pareja', 'Hijo/a - Hijastro/a', Nieto/a', 'Yerno/nuera' y 'Servicio domestico y sus familiares'._  \n",
    "9. **situacion_conyugal:** Situación conyugal de la persona encuestada. _Variable categórica nominal con 7 niveles: 'Soltero/a', 'Viudo/a', 'Unido/a', 'No corresponde', 'Separado/a de unión o matrimonio', 'Divorciado/a' y 'Casado/a'._  \n",
    "10. **num_miembro_padre:**\tNúmero de miembro del hogar (variable miembro) que corresponde al padre del individuo.\n",
    "11. **num_miembro_madre:**\tNúmero de miembro del hogar (variable miembro) que corresponde a la madre del individuo. \n",
    "12. **estado_ocupacional:** Situación ocupacional de la persona encuestada. _Variable categórica nominal con 3 niveles: 'Inactivo', 'Ocupado' y 'Desocupado'._\n",
    "13. **cat_ocupacional:** Categoría ocupacional de la persona encuestada. _Variable categórica nominal con 5 niveles: 'No corresponde', 'Asalariado', 'Trabajador por cuenta propia', 'Patron/empleador' y 'Trabajador familiar'._\n",
    "14. **calidad_ingresos_lab:** Calidad de la declaración de ingresos laborales totales. _Variable categórica nominal con 4 niveles: 'No tuvo ingresos', 'Tuvo ingresos y declara monto','No corresponde'y 'Tuvo ingresos pero no declara monto'_\n",
    "15. **ingreso_total_lab:**\tMonto del ingreso total laboral percibido el mes anterior. _Variable cuantitativa continua._\n",
    "16. **calidad_ingresos_no_lab:** Calidad de la declaración de ingresos no laborales totales. _Variable categórica nominal con 4 niveles: 'Tuvo ingresos y declara monto', 'No tuvo ingresos', 'Tuvo ingresos pero no declara monto' y 'No corresponde'._\n",
    "17. **ingreso_total_no_lab:**\tMonto del ingreso total no laboral percibido el mes anterior. _Variable cuantitativa continua._\n",
    "18. **calidad_ingresos_totales:**\tCalidad de ingresos totales individuales. _Variable categórica nominal con 4 niveles: 'Tuvo ingresos y declara monto', 'No tuvo ingresos','Tuvo ingresos pero no declara monto' y'No corresponde'._ \n",
    "19. **ingresos_totales:** Monto del ingreso total individual percibido el mes anterior. _Variable cuantitativa continua._\n",
    "20. **calidad_ingresos_familiares:**\tCalidad de ingresos totales familiares. _Variable categórica nominal con 3 niveles: 'Tuvo ingresos y declara monto','Tuvo ingresos pero no declara monto' y 'No tuvo ingresos'._\n",
    "21. **ingresos_familiares:** Monto de ingresos totales familiares percibido el mes anterior. _Variable cuantitativa continua._\n",
    "22. **ingreso_per_capita_familiar:** Monto de ingresos totales familiares percibido el mes anterior. _Variable cuantitativa continua._\n",
    "23. **estado_educativo:** Asistencia (pasada o presente) o no a algún establecimiento educativo. _Variable categórica nominal con tres niveles: 'Nunca asistio', 'No asiste pero asistió' y 'Asiste'._ \n",
    "24. **sector_educativo:** Sector al que pertenece el establecimiento educativo al que asiste. _Variable categórica nominal con 4 niveles: 'Estatal/publico', 'Privado religioso', 'No corresponde' y 'Privado no religioso'._\n",
    "25. **nivel_actual:** Nivel cursado al momento de la encuesta. _Variable categórica nominal con 14 niveles: 'Universitario', 'No corresponde', 'Secundario/medio comun', 'Terciario/superior no universitario', 'Jardin maternal','Secundario/medio adultos', 'Sala de 4', 'Primario comun', 'Sala de 5', 'Postgrado', 'Sala de 3', 'Primario adultos','Primario especial' y 'Otras escuelas especiales'._\n",
    "26. **nivel_max_educativo:** Máximo nivel educativo que se cursó. _Variable categórica nominal con 7 niveles: 'Otras escuelas especiales', 'Secundario/medio comun','EGB (1° a 9° año)', 'Primario especial', 'Primario comun', 'Sala de 5' y 'No corresponde'._\n",
    "27. **años_escolaridad:** Años de escolaridad alcanzados. _Variable cuantitativa discreta._\n",
    "28. **lugar_nacimiento:** Lugar de nacimiento de la persona encuestada. _Variable categórica nominal con 7 niveles: 'PBA excepto GBA', 'Otra provincia', 'CABA', 'Partido GBA', 'Pais no limitrofe', 'Pais limitrofe' y 'PBA sin especificar'._\n",
    "29. **afiliacion_salud:** Afiliación de salud de la persona encuestada. _Variable categórica nominal con 5 niveles: 'Solo obra social', 'Solo plan de medicina prepaga por contratación voluntaria', 'Solo prepaga o mutual via OS', 'Solo sistema publico' y 'Otros'._\n",
    "30. **hijos_nacidos_vivos:** Tiene o tuvo hijos nacidos vivos. _Variable categórica binaria. Dos niveles: 'Si' y 'No'._\n",
    "31. **cantidad_hijos_nac_vivos:** Cantidad de hijos nacidos vivos. _Variable cuantitativa discreta._"
   ]
  },
  {
   "cell_type": "markdown",
   "id": "3eb7e946",
   "metadata": {},
   "source": [
    "### Tipo de datos de cada columna"
   ]
  },
  {
   "cell_type": "code",
   "execution_count": 51,
   "id": "54141013",
   "metadata": {},
   "outputs": [
    {
     "data": {
      "text/plain": [
       "id                              int64\n",
       "nhogar                          int64\n",
       "miembro                         int64\n",
       "comuna                          int64\n",
       "dominio                        object\n",
       "edad                            int64\n",
       "sexo                           object\n",
       "parentesco_jefe                object\n",
       "situacion_conyugal             object\n",
       "num_miembro_padre              object\n",
       "num_miembro_madre              object\n",
       "estado_ocupacional             object\n",
       "cat_ocupacional                object\n",
       "calidad_ingresos_lab           object\n",
       "ingreso_total_lab               int64\n",
       "calidad_ingresos_no_lab        object\n",
       "ingreso_total_no_lab            int64\n",
       "calidad_ingresos_totales       object\n",
       "ingresos_totales                int64\n",
       "calidad_ingresos_familiares    object\n",
       "ingresos_familiares             int64\n",
       "ingreso_per_capita_familiar     int64\n",
       "estado_educativo               object\n",
       "sector_educativo               object\n",
       "nivel_actual                   object\n",
       "nivel_max_educativo            object\n",
       "años_escolaridad               object\n",
       "lugar_nacimiento               object\n",
       "afiliacion_salud               object\n",
       "hijos_nacidos_vivos            object\n",
       "cantidad_hijos_nac_vivos       object\n",
       "dtype: object"
      ]
     },
     "execution_count": 51,
     "metadata": {},
     "output_type": "execute_result"
    }
   ],
   "source": [
    "# Exploramos los tipos de datos de cada columna\n",
    "datos.dtypes"
   ]
  },
  {
   "cell_type": "markdown",
   "id": "aab6aa69",
   "metadata": {},
   "source": [
    "## Análisis exploratorio y procesamiento de los datos"
   ]
  },
  {
   "cell_type": "markdown",
   "id": "3fee1bd1",
   "metadata": {},
   "source": [
    "El data frame contiene 31 columnas de las cuales 5 corresponden a índices (id, nhogar, miembro,num_miembro_padre y num_miembro_madre), 18 son categóricas y 8 son cuantitativas. \n",
    "\n",
    "   \n"
   ]
  },
  {
   "cell_type": "markdown",
   "id": "2b34459e",
   "metadata": {},
   "source": [
    "### Cantidad de valores nulos"
   ]
  },
  {
   "cell_type": "code",
   "execution_count": 52,
   "id": "035a482d",
   "metadata": {},
   "outputs": [
    {
     "data": {
      "text/plain": [
       "id                                0\n",
       "nhogar                            0\n",
       "miembro                           0\n",
       "comuna                            0\n",
       "dominio                           0\n",
       "edad                              0\n",
       "sexo                              0\n",
       "parentesco_jefe                   0\n",
       "situacion_conyugal                1\n",
       "num_miembro_padre                 0\n",
       "num_miembro_madre                 0\n",
       "estado_ocupacional                0\n",
       "cat_ocupacional                   0\n",
       "calidad_ingresos_lab              0\n",
       "ingreso_total_lab                 0\n",
       "calidad_ingresos_no_lab           0\n",
       "ingreso_total_no_lab              0\n",
       "calidad_ingresos_totales          0\n",
       "ingresos_totales                  0\n",
       "calidad_ingresos_familiares       0\n",
       "ingresos_familiares               0\n",
       "ingreso_per_capita_familiar       0\n",
       "estado_educativo                  0\n",
       "sector_educativo                  3\n",
       "nivel_actual                      0\n",
       "nivel_max_educativo            1054\n",
       "años_escolaridad                 62\n",
       "lugar_nacimiento                  1\n",
       "afiliacion_salud                  4\n",
       "hijos_nacidos_vivos            7784\n",
       "cantidad_hijos_nac_vivos          0\n",
       "dtype: int64"
      ]
     },
     "execution_count": 52,
     "metadata": {},
     "output_type": "execute_result"
    }
   ],
   "source": [
    "# Obtengo cantidad de nulos por variable\n",
    "datos.isnull().sum()"
   ]
  },
  {
   "cell_type": "markdown",
   "id": "16dcddda",
   "metadata": {},
   "source": [
    "### Exploración de valores nulos presentes\n"
   ]
  },
  {
   "cell_type": "markdown",
   "id": "cd272f16",
   "metadata": {},
   "source": [
    "La variable **hijos_nacidos_vivos** contiene la mayor cantidad de valores nulos del data frame, 54% de los registros de la variable son nulos (7784/len(datos)). La información contenida en esta variable es similar a la de la variable **cantidad_hijos_nac_vivos**. Se podría considerar eliminar la variable **hijos_nacidos_vivos** y utilizar **cantidad_hijos_nac_vivos** , que no posee nulos, en los análisis si es necesario.  "
   ]
  },
  {
   "cell_type": "code",
   "execution_count": 53,
   "id": "992fae5f",
   "metadata": {},
   "outputs": [],
   "source": [
    "# Elimino columna 'hijos_nacidos_vivos'\n",
    "datos.drop(columns=['hijos_nacidos_vivos'], inplace=True)"
   ]
  },
  {
   "cell_type": "markdown",
   "id": "7873ee4d",
   "metadata": {},
   "source": [
    "En la variable **nivel_max_educativo** los valores nulos estan concentrados en los primeros años de edad. Desde los 0 a los 5 años el número de personas registradas coincide con el número de nulos para cada una de esas edades. Se podría considerar ubicar a los datos para esas edades dentro de una nueva categoría que describa correctamente su situacion por ej: \"Todavía no alcanzó ninguno\" o utilizar una categoría ya existente como \"No corresponde\""
   ]
  },
  {
   "cell_type": "code",
   "execution_count": 54,
   "id": "74f5b863",
   "metadata": {},
   "outputs": [
    {
     "name": "stdout",
     "output_type": "stream",
     "text": [
      "   edad  nulls_nivel_max_educativo\n",
      "0     0                        128\n",
      "1     1                        148\n",
      "2     2                        158\n",
      "3     3                        160\n",
      "4     4                        177\n",
      "5     5                        182\n",
      "6     6                         53\n",
      "7     7                          1\n",
      "8     8                          0\n",
      "9     9                          0\n"
     ]
    }
   ],
   "source": [
    "# Obtengo la cantidad de valores nulos de la variable nivel_max_educativo por edad y la exploro para los primeros años\n",
    "count_nulls = datos.groupby('edad')['nivel_max_educativo'].apply(lambda x: x.isnull().sum()) #Calcular el número de nulos por edad\n",
    "nulls = count_nulls.to_frame() #Convertir serie en data frame\n",
    "nulls = nulls.reset_index()\n",
    "nulls = nulls.rename(columns={'nivel_max_educativo': 'nulls_nivel_max_educativo'})\n",
    "print(nulls.head(10))"
   ]
  },
  {
   "cell_type": "code",
   "execution_count": 55,
   "id": "aad25660",
   "metadata": {
    "scrolled": false
   },
   "outputs": [
    {
     "name": "stdout",
     "output_type": "stream",
     "text": [
      "0 128\n",
      "1 148\n",
      "2 158\n",
      "3 160\n",
      "4 177\n",
      "5 182\n",
      "6 152\n",
      "7 176\n",
      "8 176\n"
     ]
    }
   ],
   "source": [
    "# Obtengo la cantidad deregistros de la variable nivel_max_educativo por edad y la exploro para los primeros años\n",
    "edades =[0,1,2,3,4,5,6,7,8]\n",
    "for i in edades:\n",
    "    numero = (datos['edad'] == i).sum()\n",
    "    print(i, numero)\n",
    "    \n",
    "# Hasta los 5 años los valores nulos coindicen con el numero de personas registradas en ese rango de edades"
   ]
  },
  {
   "cell_type": "code",
   "execution_count": 56,
   "id": "5378f3d0",
   "metadata": {
    "scrolled": true
   },
   "outputs": [
    {
     "data": {
      "text/plain": [
       "Text(0.5, 0, 'Edad')"
      ]
     },
     "execution_count": 56,
     "metadata": {},
     "output_type": "execute_result"
    },
    {
     "data": {
      "image/png": "[encoded data removed]",
      "text/plain": [
       "<Figure size 2500x400 with 1 Axes>"
      ]
     },
     "metadata": {},
     "output_type": "display_data"
    }
   ],
   "source": [
    "#Gráfico de cantidad de valores nulos por edad\n",
    "plt.figure(figsize=(25, 4))\n",
    "plt.bar(\"edad\", \"nulls_nivel_max_educativo\", data=nulls, color=\"#E493B3\")\n",
    "plt.title('Cantidad de nulos por edad variable nivel_max_educativo', size=24, pad=15)\n",
    "plt.ylabel('Cantidad', size=16)\n",
    "plt.xlabel('Edad', size=16)"
   ]
  },
  {
   "cell_type": "markdown",
   "id": "b5fd9d2c",
   "metadata": {},
   "source": [
    "Entonces decimos crear una nueva categoría llamada \"Todavía no alcanzó ninguno\" para la variable **nivel_max_educativo** que agrupe a los niños menores de 5 años."
   ]
  },
  {
   "cell_type": "code",
   "execution_count": 57,
   "id": "5c154149",
   "metadata": {},
   "outputs": [],
   "source": [
    "# Creamos una nueva categoría dentro de la variable nivel_max_educativo que contemple a los menores de 5 años\n",
    "datos.loc[datos['edad'] < 6, 'nivel_max_educativo'] = 'Todavía no alcanzó ninguno'"
   ]
  },
  {
   "cell_type": "code",
   "execution_count": 58,
   "id": "fa8b0526",
   "metadata": {},
   "outputs": [
    {
     "data": {
      "text/plain": [
       "array(['Otras escuelas especiales', 'Secundario/medio comun',\n",
       "       'EGB (1° a 9° año)', 'Primario especial',\n",
       "       'Todavía no alcanzó ninguno', 'Primario comun', nan, 'Sala de 5',\n",
       "       'No corresponde'], dtype=object)"
      ]
     },
     "execution_count": 58,
     "metadata": {},
     "output_type": "execute_result"
    }
   ],
   "source": [
    "#Exploramos el cambio \n",
    "datos['nivel_max_educativo'].unique()"
   ]
  },
  {
   "cell_type": "code",
   "execution_count": 59,
   "id": "d04bb37f",
   "metadata": {},
   "outputs": [
    {
     "data": {
      "text/plain": [
       "id                               0\n",
       "nhogar                           0\n",
       "miembro                          0\n",
       "comuna                           0\n",
       "dominio                          0\n",
       "edad                             0\n",
       "sexo                             0\n",
       "parentesco_jefe                  0\n",
       "situacion_conyugal               1\n",
       "num_miembro_padre                0\n",
       "num_miembro_madre                0\n",
       "estado_ocupacional               0\n",
       "cat_ocupacional                  0\n",
       "calidad_ingresos_lab             0\n",
       "ingreso_total_lab                0\n",
       "calidad_ingresos_no_lab          0\n",
       "ingreso_total_no_lab             0\n",
       "calidad_ingresos_totales         0\n",
       "ingresos_totales                 0\n",
       "calidad_ingresos_familiares      0\n",
       "ingresos_familiares              0\n",
       "ingreso_per_capita_familiar      0\n",
       "estado_educativo                 0\n",
       "sector_educativo                 3\n",
       "nivel_actual                     0\n",
       "nivel_max_educativo            101\n",
       "años_escolaridad                62\n",
       "lugar_nacimiento                 1\n",
       "afiliacion_salud                 4\n",
       "cantidad_hijos_nac_vivos         0\n",
       "dtype: int64"
      ]
     },
     "execution_count": 59,
     "metadata": {},
     "output_type": "execute_result"
    }
   ],
   "source": [
    "#Exploramos los valores nulos nuevamente\n",
    "datos.isnull().sum()"
   ]
  },
  {
   "cell_type": "markdown",
   "id": "6c4d4286",
   "metadata": {},
   "source": [
    "Hechos los cambios decidimos eliminar los datos faltantes restantes"
   ]
  },
  {
   "cell_type": "code",
   "execution_count": 60,
   "id": "a126efd9",
   "metadata": {},
   "outputs": [],
   "source": [
    "# Eliminamos los datos faltantes existentes en todo el data frame\n",
    "datos = datos.dropna()"
   ]
  },
  {
   "cell_type": "code",
   "execution_count": 61,
   "id": "6e46010a",
   "metadata": {},
   "outputs": [
    {
     "data": {
      "text/plain": [
       "id                             0\n",
       "nhogar                         0\n",
       "miembro                        0\n",
       "comuna                         0\n",
       "dominio                        0\n",
       "edad                           0\n",
       "sexo                           0\n",
       "parentesco_jefe                0\n",
       "situacion_conyugal             0\n",
       "num_miembro_padre              0\n",
       "num_miembro_madre              0\n",
       "estado_ocupacional             0\n",
       "cat_ocupacional                0\n",
       "calidad_ingresos_lab           0\n",
       "ingreso_total_lab              0\n",
       "calidad_ingresos_no_lab        0\n",
       "ingreso_total_no_lab           0\n",
       "calidad_ingresos_totales       0\n",
       "ingresos_totales               0\n",
       "calidad_ingresos_familiares    0\n",
       "ingresos_familiares            0\n",
       "ingreso_per_capita_familiar    0\n",
       "estado_educativo               0\n",
       "sector_educativo               0\n",
       "nivel_actual                   0\n",
       "nivel_max_educativo            0\n",
       "años_escolaridad               0\n",
       "lugar_nacimiento               0\n",
       "afiliacion_salud               0\n",
       "cantidad_hijos_nac_vivos       0\n",
       "dtype: int64"
      ]
     },
     "execution_count": 61,
     "metadata": {},
     "output_type": "execute_result"
    }
   ],
   "source": [
    "#Exploramos los valores nulos nuevamente\n",
    "datos.isnull().sum()"
   ]
  },
  {
   "cell_type": "markdown",
   "id": "69db6ab5",
   "metadata": {},
   "source": [
    "### Creación de nuevas variables"
   ]
  },
  {
   "cell_type": "markdown",
   "id": "d69a8231",
   "metadata": {},
   "source": [
    "El data frame contiene variables de ingresos laborales en pesos argentinos para el año 2019. Consideramos pertinente crear nuevas variables con los valores de ingresos en dólares estadounidenses a fin de poder extrapolar los datos a la actualidad y comparar con valores en otros países.\n",
    "Utilizamos el valor alcanzado por el dólar al 30 de diciembre de 2019 que fue de $63.35.   \n",
    "\n",
    "**Las variables a crear serían:**\n",
    "\n",
    "- ingreso_total_lab_USD (creada a partir de ingreso_total_lab)     \n",
    "- ingreso_total_no_lab_USD (creada a partir de ingreso_total_no_lab)  \n",
    "- ingresos_totales_USD (creada a partir de ingresos_totales)                 \n",
    "- ingresos_familiares_USD  (creada a partir de ingresos_familiares)          \n",
    "- ingreso_per_capita_familiar_USD (creada a partir de ingreso_per_capita_familiar)  "
   ]
  },
  {
   "cell_type": "code",
   "execution_count": 62,
   "id": "cc87d6b0",
   "metadata": {},
   "outputs": [],
   "source": [
    "# Creamos las variables de ingreso en USD\n",
    "datos['ingreso_total_lab_USD'] = datos['ingreso_total_lab']/63.35\n",
    "datos['ingreso_total_no_lab_USD'] = datos['ingreso_total_no_lab']/[63.35]\n",
    "datos['ingresos_totales_USD'] = datos['ingresos_totales']/63.35\n",
    "datos['ingresos_familiares_USD'] = datos['ingresos_familiares']/63.35\n",
    "datos['ingreso_per_capita_familiar_USD'] = datos['ingreso_per_capita_familiar']/63.35"
   ]
  },
  {
   "cell_type": "markdown",
   "id": "4fe0eac4",
   "metadata": {},
   "source": [
    "### Transformación de tipos de datos \n"
   ]
  },
  {
   "cell_type": "code",
   "execution_count": 63,
   "id": "b4e092b1",
   "metadata": {},
   "outputs": [
    {
     "data": {
      "text/plain": [
       "id                                   int64\n",
       "nhogar                               int64\n",
       "miembro                              int64\n",
       "comuna                               int64\n",
       "dominio                             object\n",
       "edad                                 int64\n",
       "sexo                                object\n",
       "parentesco_jefe                     object\n",
       "situacion_conyugal                  object\n",
       "num_miembro_padre                   object\n",
       "num_miembro_madre                   object\n",
       "estado_ocupacional                  object\n",
       "cat_ocupacional                     object\n",
       "calidad_ingresos_lab                object\n",
       "ingreso_total_lab                    int64\n",
       "calidad_ingresos_no_lab             object\n",
       "ingreso_total_no_lab                 int64\n",
       "calidad_ingresos_totales            object\n",
       "ingresos_totales                     int64\n",
       "calidad_ingresos_familiares         object\n",
       "ingresos_familiares                  int64\n",
       "ingreso_per_capita_familiar          int64\n",
       "estado_educativo                    object\n",
       "sector_educativo                    object\n",
       "nivel_actual                        object\n",
       "nivel_max_educativo                 object\n",
       "años_escolaridad                    object\n",
       "lugar_nacimiento                    object\n",
       "afiliacion_salud                    object\n",
       "cantidad_hijos_nac_vivos            object\n",
       "ingreso_total_lab_USD              float64\n",
       "ingreso_total_no_lab_USD           float64\n",
       "ingresos_totales_USD               float64\n",
       "ingresos_familiares_USD            float64\n",
       "ingreso_per_capita_familiar_USD    float64\n",
       "dtype: object"
      ]
     },
     "execution_count": 63,
     "metadata": {},
     "output_type": "execute_result"
    }
   ],
   "source": [
    "#Exploramos nuevamente los tipos de datos antes de analizar los estadisticos descriptivos\n",
    "datos.dtypes"
   ]
  },
  {
   "cell_type": "markdown",
   "id": "477565a9",
   "metadata": {},
   "source": [
    "La variable **años_escolaridad** debería tratarse como una variable cuantitativa discreta. Sin embargo, en los datos existen registros con el siguiente string: _'Ningun año de escolaridad aprobado'_, por esto la columna aparece como un tipo de dato object. Se considera reemplazar estos registros por el valor numérico 0."
   ]
  },
  {
   "cell_type": "code",
   "execution_count": 64,
   "id": "be347343",
   "metadata": {},
   "outputs": [
    {
     "data": {
      "text/plain": [
       "array(['12', '17', '10', '8', 'Ningun año de escolaridad aprobado', '11',\n",
       "       '9', '13', '7', '16', '14', '15', '5', '6', '2', '19', '4', '1',\n",
       "       '3', '18'], dtype=object)"
      ]
     },
     "execution_count": 64,
     "metadata": {},
     "output_type": "execute_result"
    }
   ],
   "source": [
    "# Exploramos los valores de la variable\n",
    "datos['años_escolaridad'].unique() "
   ]
  },
  {
   "cell_type": "code",
   "execution_count": 65,
   "id": "6605d05e",
   "metadata": {},
   "outputs": [
    {
     "data": {
      "text/plain": [
       "dtype('O')"
      ]
     },
     "execution_count": 65,
     "metadata": {},
     "output_type": "execute_result"
    }
   ],
   "source": [
    "# Vemos que tipo de dato es la variable\n",
    "datos['años_escolaridad'].dtype"
   ]
  },
  {
   "cell_type": "code",
   "execution_count": 66,
   "id": "b5491998",
   "metadata": {},
   "outputs": [],
   "source": [
    "# Cambiamos el valor 'Ningun año de escolaridad aprobado' por 0\n",
    "datos['años_escolaridad'] = datos['años_escolaridad'].replace({'Ningun año de escolaridad aprobado': 0})"
   ]
  },
  {
   "cell_type": "code",
   "execution_count": 67,
   "id": "e51db7ed",
   "metadata": {},
   "outputs": [],
   "source": [
    "#Cambiamos tipo de dato de la columna de objet a int64\n",
    "datos['años_escolaridad'] = datos['años_escolaridad'].astype('int64')"
   ]
  },
  {
   "cell_type": "code",
   "execution_count": 68,
   "id": "cf064a37",
   "metadata": {},
   "outputs": [
    {
     "data": {
      "text/plain": [
       "dtype('int64')"
      ]
     },
     "execution_count": 68,
     "metadata": {},
     "output_type": "execute_result"
    }
   ],
   "source": [
    "# Exploramos el tipo de dato nuevamente\n",
    "datos['años_escolaridad'].dtype"
   ]
  },
  {
   "cell_type": "markdown",
   "id": "924fcba4",
   "metadata": {},
   "source": [
    "La variable **cantidad_hijos_nac_vivos** debería tratarse como una variable cuantitativa discreta. Sin embargo, en los datos existen registros con el siguiente string: _'No corresponde'_, por esto la columna aparece como un tipo de dato object. Se considera reemplazar estos registros por el valor numérico 0."
   ]
  },
  {
   "cell_type": "code",
   "execution_count": 69,
   "id": "e064b552",
   "metadata": {},
   "outputs": [
    {
     "data": {
      "text/plain": [
       "array(['No corresponde', '2', '1', '3', '5', '7', '4', '6', '9', '8',\n",
       "       '11', '12', '10', '15'], dtype=object)"
      ]
     },
     "execution_count": 69,
     "metadata": {},
     "output_type": "execute_result"
    }
   ],
   "source": [
    "# Exploramos los valores de la variable\n",
    "datos['cantidad_hijos_nac_vivos'].unique()"
   ]
  },
  {
   "cell_type": "code",
   "execution_count": 70,
   "id": "27f958fe",
   "metadata": {},
   "outputs": [
    {
     "data": {
      "text/plain": [
       "dtype('O')"
      ]
     },
     "execution_count": 70,
     "metadata": {},
     "output_type": "execute_result"
    }
   ],
   "source": [
    "# Vemos que tipo de dato es la variable\n",
    "datos['cantidad_hijos_nac_vivos'].dtype"
   ]
  },
  {
   "cell_type": "code",
   "execution_count": 71,
   "id": "61522daa",
   "metadata": {},
   "outputs": [],
   "source": [
    "# # Cambiamos el valor 'No corresponde' por 0\n",
    "datos['cantidad_hijos_nac_vivos'] = datos['cantidad_hijos_nac_vivos'].replace({'No corresponde': 0})"
   ]
  },
  {
   "cell_type": "code",
   "execution_count": 72,
   "id": "769911f1",
   "metadata": {},
   "outputs": [],
   "source": [
    "#Cambiar tipo de dato de la columna de objet a int64\n",
    "datos['cantidad_hijos_nac_vivos'] = datos['cantidad_hijos_nac_vivos'].astype('int64')"
   ]
  },
  {
   "cell_type": "code",
   "execution_count": 73,
   "id": "177ea921",
   "metadata": {},
   "outputs": [
    {
     "data": {
      "text/plain": [
       "dtype('int64')"
      ]
     },
     "execution_count": 73,
     "metadata": {},
     "output_type": "execute_result"
    }
   ],
   "source": [
    "#Exploramos nuevamente los tipos de datos antes de analizar los estadisticos descriptivos\n",
    "datos['cantidad_hijos_nac_vivos'].dtype "
   ]
  },
  {
   "cell_type": "markdown",
   "id": "db54dca4",
   "metadata": {},
   "source": [
    "## Descripción estadistica de las variables"
   ]
  },
  {
   "cell_type": "code",
   "execution_count": 74,
   "id": "6a20bbf9",
   "metadata": {},
   "outputs": [
    {
     "data": {
      "text/html": [
       "<div>\n",
       "<style scoped>\n",
       "    .dataframe tbody tr th:only-of-type {\n",
       "        vertical-align: middle;\n",
       "    }\n",
       "\n",
       "    .dataframe tbody tr th {\n",
       "        vertical-align: top;\n",
       "    }\n",
       "\n",
       "    .dataframe thead th {\n",
       "        text-align: right;\n",
       "    }\n",
       "</style>\n",
       "<table border=\"1\" class=\"dataframe\">\n",
       "  <thead>\n",
       "    <tr style=\"text-align: right;\">\n",
       "      <th></th>\n",
       "      <th>id</th>\n",
       "      <th>nhogar</th>\n",
       "      <th>miembro</th>\n",
       "      <th>comuna</th>\n",
       "      <th>edad</th>\n",
       "      <th>ingreso_total_lab</th>\n",
       "      <th>ingreso_total_no_lab</th>\n",
       "      <th>ingresos_totales</th>\n",
       "      <th>ingresos_familiares</th>\n",
       "      <th>ingreso_per_capita_familiar</th>\n",
       "      <th>años_escolaridad</th>\n",
       "      <th>cantidad_hijos_nac_vivos</th>\n",
       "      <th>ingreso_total_lab_USD</th>\n",
       "      <th>ingreso_total_no_lab_USD</th>\n",
       "      <th>ingresos_totales_USD</th>\n",
       "      <th>ingresos_familiares_USD</th>\n",
       "      <th>ingreso_per_capita_familiar_USD</th>\n",
       "    </tr>\n",
       "  </thead>\n",
       "  <tbody>\n",
       "    <tr>\n",
       "      <th>count</th>\n",
       "      <td>14148.000000</td>\n",
       "      <td>14148.000000</td>\n",
       "      <td>14148.000000</td>\n",
       "      <td>14148.000000</td>\n",
       "      <td>14148.000000</td>\n",
       "      <td>14148.000000</td>\n",
       "      <td>14148.000000</td>\n",
       "      <td>14148.000000</td>\n",
       "      <td>14148.000000</td>\n",
       "      <td>14148.000000</td>\n",
       "      <td>14148.000000</td>\n",
       "      <td>14148.000000</td>\n",
       "      <td>14148.000000</td>\n",
       "      <td>14148.000000</td>\n",
       "      <td>14148.000000</td>\n",
       "      <td>14148.000000</td>\n",
       "      <td>14148.000000</td>\n",
       "    </tr>\n",
       "    <tr>\n",
       "      <th>mean</th>\n",
       "      <td>2709.105315</td>\n",
       "      <td>1.009683</td>\n",
       "      <td>2.135426</td>\n",
       "      <td>7.626308</td>\n",
       "      <td>38.908892</td>\n",
       "      <td>20290.588917</td>\n",
       "      <td>6036.073155</td>\n",
       "      <td>26326.662072</td>\n",
       "      <td>70422.935892</td>\n",
       "      <td>26311.200735</td>\n",
       "      <td>10.985652</td>\n",
       "      <td>0.630902</td>\n",
       "      <td>320.293432</td>\n",
       "      <td>95.281344</td>\n",
       "      <td>415.574776</td>\n",
       "      <td>1111.648554</td>\n",
       "      <td>415.330714</td>\n",
       "    </tr>\n",
       "    <tr>\n",
       "      <th>std</th>\n",
       "      <td>1535.073358</td>\n",
       "      <td>0.126860</td>\n",
       "      <td>1.350199</td>\n",
       "      <td>4.239135</td>\n",
       "      <td>23.051483</td>\n",
       "      <td>34842.054996</td>\n",
       "      <td>16093.901676</td>\n",
       "      <td>37279.729287</td>\n",
       "      <td>62823.251234</td>\n",
       "      <td>27536.963969</td>\n",
       "      <td>5.293507</td>\n",
       "      <td>1.212974</td>\n",
       "      <td>549.992975</td>\n",
       "      <td>254.047382</td>\n",
       "      <td>588.472443</td>\n",
       "      <td>991.685102</td>\n",
       "      <td>434.679779</td>\n",
       "    </tr>\n",
       "    <tr>\n",
       "      <th>min</th>\n",
       "      <td>1.000000</td>\n",
       "      <td>1.000000</td>\n",
       "      <td>1.000000</td>\n",
       "      <td>1.000000</td>\n",
       "      <td>0.000000</td>\n",
       "      <td>0.000000</td>\n",
       "      <td>0.000000</td>\n",
       "      <td>0.000000</td>\n",
       "      <td>0.000000</td>\n",
       "      <td>0.000000</td>\n",
       "      <td>0.000000</td>\n",
       "      <td>0.000000</td>\n",
       "      <td>0.000000</td>\n",
       "      <td>0.000000</td>\n",
       "      <td>0.000000</td>\n",
       "      <td>0.000000</td>\n",
       "      <td>0.000000</td>\n",
       "    </tr>\n",
       "    <tr>\n",
       "      <th>25%</th>\n",
       "      <td>1474.000000</td>\n",
       "      <td>1.000000</td>\n",
       "      <td>1.000000</td>\n",
       "      <td>4.000000</td>\n",
       "      <td>20.000000</td>\n",
       "      <td>0.000000</td>\n",
       "      <td>0.000000</td>\n",
       "      <td>0.000000</td>\n",
       "      <td>30000.000000</td>\n",
       "      <td>10579.000000</td>\n",
       "      <td>7.000000</td>\n",
       "      <td>0.000000</td>\n",
       "      <td>0.000000</td>\n",
       "      <td>0.000000</td>\n",
       "      <td>0.000000</td>\n",
       "      <td>473.559590</td>\n",
       "      <td>166.992897</td>\n",
       "    </tr>\n",
       "    <tr>\n",
       "      <th>50%</th>\n",
       "      <td>2611.000000</td>\n",
       "      <td>1.000000</td>\n",
       "      <td>2.000000</td>\n",
       "      <td>8.000000</td>\n",
       "      <td>37.000000</td>\n",
       "      <td>3000.000000</td>\n",
       "      <td>0.000000</td>\n",
       "      <td>16000.000000</td>\n",
       "      <td>54850.000000</td>\n",
       "      <td>20000.000000</td>\n",
       "      <td>12.000000</td>\n",
       "      <td>0.000000</td>\n",
       "      <td>47.355959</td>\n",
       "      <td>0.000000</td>\n",
       "      <td>252.565114</td>\n",
       "      <td>865.824783</td>\n",
       "      <td>315.706393</td>\n",
       "    </tr>\n",
       "    <tr>\n",
       "      <th>75%</th>\n",
       "      <td>3896.000000</td>\n",
       "      <td>1.000000</td>\n",
       "      <td>3.000000</td>\n",
       "      <td>11.000000</td>\n",
       "      <td>57.000000</td>\n",
       "      <td>30000.000000</td>\n",
       "      <td>4000.000000</td>\n",
       "      <td>37000.000000</td>\n",
       "      <td>90000.000000</td>\n",
       "      <td>33750.000000</td>\n",
       "      <td>15.000000</td>\n",
       "      <td>1.000000</td>\n",
       "      <td>473.559590</td>\n",
       "      <td>63.141279</td>\n",
       "      <td>584.056827</td>\n",
       "      <td>1420.678769</td>\n",
       "      <td>532.754538</td>\n",
       "    </tr>\n",
       "    <tr>\n",
       "      <th>max</th>\n",
       "      <td>5795.000000</td>\n",
       "      <td>7.000000</td>\n",
       "      <td>19.000000</td>\n",
       "      <td>15.000000</td>\n",
       "      <td>100.000000</td>\n",
       "      <td>1000000.000000</td>\n",
       "      <td>500000.000000</td>\n",
       "      <td>1000000.000000</td>\n",
       "      <td>1000000.000000</td>\n",
       "      <td>1000000.000000</td>\n",
       "      <td>19.000000</td>\n",
       "      <td>15.000000</td>\n",
       "      <td>15785.319653</td>\n",
       "      <td>7892.659826</td>\n",
       "      <td>15785.319653</td>\n",
       "      <td>15785.319653</td>\n",
       "      <td>15785.319653</td>\n",
       "    </tr>\n",
       "  </tbody>\n",
       "</table>\n",
       "</div>"
      ],
      "text/plain": [
       "                 id        nhogar       miembro        comuna          edad  \\\n",
       "count  14148.000000  14148.000000  14148.000000  14148.000000  14148.000000   \n",
       "mean    2709.105315      1.009683      2.135426      7.626308     38.908892   \n",
       "std     1535.073358      0.126860      1.350199      4.239135     23.051483   \n",
       "min        1.000000      1.000000      1.000000      1.000000      0.000000   \n",
       "25%     1474.000000      1.000000      1.000000      4.000000     20.000000   \n",
       "50%     2611.000000      1.000000      2.000000      8.000000     37.000000   \n",
       "75%     3896.000000      1.000000      3.000000     11.000000     57.000000   \n",
       "max     5795.000000      7.000000     19.000000     15.000000    100.000000   \n",
       "\n",
       "       ingreso_total_lab  ingreso_total_no_lab  ingresos_totales  \\\n",
       "count       14148.000000          14148.000000      14148.000000   \n",
       "mean        20290.588917           6036.073155      26326.662072   \n",
       "std         34842.054996          16093.901676      37279.729287   \n",
       "min             0.000000              0.000000          0.000000   \n",
       "25%             0.000000              0.000000          0.000000   \n",
       "50%          3000.000000              0.000000      16000.000000   \n",
       "75%         30000.000000           4000.000000      37000.000000   \n",
       "max       1000000.000000         500000.000000    1000000.000000   \n",
       "\n",
       "       ingresos_familiares  ingreso_per_capita_familiar  años_escolaridad  \\\n",
       "count         14148.000000                 14148.000000      14148.000000   \n",
       "mean          70422.935892                 26311.200735         10.985652   \n",
       "std           62823.251234                 27536.963969          5.293507   \n",
       "min               0.000000                     0.000000          0.000000   \n",
       "25%           30000.000000                 10579.000000          7.000000   \n",
       "50%           54850.000000                 20000.000000         12.000000   \n",
       "75%           90000.000000                 33750.000000         15.000000   \n",
       "max         1000000.000000               1000000.000000         19.000000   \n",
       "\n",
       "       cantidad_hijos_nac_vivos  ingreso_total_lab_USD  \\\n",
       "count              14148.000000           14148.000000   \n",
       "mean                   0.630902             320.293432   \n",
       "std                    1.212974             549.992975   \n",
       "min                    0.000000               0.000000   \n",
       "25%                    0.000000               0.000000   \n",
       "50%                    0.000000              47.355959   \n",
       "75%                    1.000000             473.559590   \n",
       "max                   15.000000           15785.319653   \n",
       "\n",
       "       ingreso_total_no_lab_USD  ingresos_totales_USD  \\\n",
       "count              14148.000000          14148.000000   \n",
       "mean                  95.281344            415.574776   \n",
       "std                  254.047382            588.472443   \n",
       "min                    0.000000              0.000000   \n",
       "25%                    0.000000              0.000000   \n",
       "50%                    0.000000            252.565114   \n",
       "75%                   63.141279            584.056827   \n",
       "max                 7892.659826          15785.319653   \n",
       "\n",
       "       ingresos_familiares_USD  ingreso_per_capita_familiar_USD  \n",
       "count             14148.000000                     14148.000000  \n",
       "mean               1111.648554                       415.330714  \n",
       "std                 991.685102                       434.679779  \n",
       "min                   0.000000                         0.000000  \n",
       "25%                 473.559590                       166.992897  \n",
       "50%                 865.824783                       315.706393  \n",
       "75%                1420.678769                       532.754538  \n",
       "max               15785.319653                     15785.319653  "
      ]
     },
     "execution_count": 74,
     "metadata": {},
     "output_type": "execute_result"
    }
   ],
   "source": [
    "#Obtenemos los estadísticos descriptivos de las variables numéricas\n",
    "datos.describe()"
   ]
  },
  {
   "cell_type": "markdown",
   "id": "b4259082",
   "metadata": {},
   "source": [
    "Del resumen estadístico podemos destacar:\n",
    "*  **id:** el valor máximo nos da la cantidad de hogares muestreados: 5795\n",
    "*  **miembro:** el número mínimo registrado de personas por hogar es 1 y el máximo es 19 \n",
    "*  **comuna:** el valor máximo nos informa que el muestreo tuvo en cuenta el total de comunas de la Ciudad de Buenos Aires: 15 en total\n",
    "*  **edad:** la edad promedio de las personas encuestadas fue de aproximadamente 39 años. La edad mínima fue de 0 años y la máxima de 100 años. Los valores de la media y la mediana nos informan que la muestra tuvo una mayor proporción de personas jóvenes(ver histograma) que determinó que los datos estuvieran concentrados hacia la izquierda \n",
    "*  **años_escolaridad:** los años de escolaridad promedio de los encuestados fueron de aproximadamente 11 años. El mínimo fue cero y el máximo 19. El 50% de las personas se ubicó por debajo de los 12 años de escolaridad.\n",
    "*  **cantidad_hijos_nac_vivos:** el promedio de cantidad de hijos nacidos vivos fue de aproximadamente 1. El mínimo fue cero y el máximo 15. El 75% de los registros se encontraron por debajo de 1 (Q3).\n",
    "\n",
    "**Para observar la distribución de los datos de cada variable mirar los boxplots abajo**"
   ]
  },
  {
   "cell_type": "markdown",
   "id": "d98e0444",
   "metadata": {},
   "source": [
    "### Datos de personas en edad laboral"
   ]
  },
  {
   "cell_type": "markdown",
   "id": "6e229272",
   "metadata": {},
   "source": [
    "Los estadísticos descriptivos para las variables de ingresos incluyen registros de personas en edad no laboral (menores de edad), por lo que gran parte de los ceros en esas variables derivan, no de registros de gente en desempleo, si no más bien de individuos que no alcanzan la mayoría de edad para tener un trabajo. Si observamos las medias de ingresos por edad (tabla abajo) vemos que parece que existen individuos menores de entre los 11 y 17 años que perciben algún tipo de ingreso a pesar de ser menores de edad. "
   ]
  },
  {
   "cell_type": "code",
   "execution_count": 75,
   "id": "ba4dce1c",
   "metadata": {},
   "outputs": [
    {
     "data": {
      "text/html": [
       "<div>\n",
       "<style scoped>\n",
       "    .dataframe tbody tr th:only-of-type {\n",
       "        vertical-align: middle;\n",
       "    }\n",
       "\n",
       "    .dataframe tbody tr th {\n",
       "        vertical-align: top;\n",
       "    }\n",
       "\n",
       "    .dataframe thead th {\n",
       "        text-align: right;\n",
       "    }\n",
       "</style>\n",
       "<table border=\"1\" class=\"dataframe\">\n",
       "  <thead>\n",
       "    <tr style=\"text-align: right;\">\n",
       "      <th></th>\n",
       "      <th>edad</th>\n",
       "      <th>media_ingresos_totales_USD</th>\n",
       "    </tr>\n",
       "  </thead>\n",
       "  <tbody>\n",
       "    <tr>\n",
       "      <th>0</th>\n",
       "      <td>0</td>\n",
       "      <td>0.000000</td>\n",
       "    </tr>\n",
       "    <tr>\n",
       "      <th>1</th>\n",
       "      <td>1</td>\n",
       "      <td>0.000000</td>\n",
       "    </tr>\n",
       "    <tr>\n",
       "      <th>2</th>\n",
       "      <td>2</td>\n",
       "      <td>0.000000</td>\n",
       "    </tr>\n",
       "    <tr>\n",
       "      <th>3</th>\n",
       "      <td>3</td>\n",
       "      <td>0.000000</td>\n",
       "    </tr>\n",
       "    <tr>\n",
       "      <th>4</th>\n",
       "      <td>4</td>\n",
       "      <td>0.000000</td>\n",
       "    </tr>\n",
       "    <tr>\n",
       "      <th>5</th>\n",
       "      <td>5</td>\n",
       "      <td>0.000000</td>\n",
       "    </tr>\n",
       "    <tr>\n",
       "      <th>6</th>\n",
       "      <td>6</td>\n",
       "      <td>0.000000</td>\n",
       "    </tr>\n",
       "    <tr>\n",
       "      <th>7</th>\n",
       "      <td>7</td>\n",
       "      <td>0.000000</td>\n",
       "    </tr>\n",
       "    <tr>\n",
       "      <th>8</th>\n",
       "      <td>8</td>\n",
       "      <td>0.000000</td>\n",
       "    </tr>\n",
       "    <tr>\n",
       "      <th>9</th>\n",
       "      <td>9</td>\n",
       "      <td>0.000000</td>\n",
       "    </tr>\n",
       "    <tr>\n",
       "      <th>10</th>\n",
       "      <td>10</td>\n",
       "      <td>0.000000</td>\n",
       "    </tr>\n",
       "    <tr>\n",
       "      <th>11</th>\n",
       "      <td>11</td>\n",
       "      <td>1.737319</td>\n",
       "    </tr>\n",
       "    <tr>\n",
       "      <th>12</th>\n",
       "      <td>12</td>\n",
       "      <td>1.516802</td>\n",
       "    </tr>\n",
       "    <tr>\n",
       "      <th>13</th>\n",
       "      <td>13</td>\n",
       "      <td>6.345541</td>\n",
       "    </tr>\n",
       "    <tr>\n",
       "      <th>14</th>\n",
       "      <td>14</td>\n",
       "      <td>7.119501</td>\n",
       "    </tr>\n",
       "    <tr>\n",
       "      <th>15</th>\n",
       "      <td>15</td>\n",
       "      <td>7.240879</td>\n",
       "    </tr>\n",
       "    <tr>\n",
       "      <th>16</th>\n",
       "      <td>16</td>\n",
       "      <td>16.011542</td>\n",
       "    </tr>\n",
       "    <tr>\n",
       "      <th>17</th>\n",
       "      <td>17</td>\n",
       "      <td>13.593946</td>\n",
       "    </tr>\n",
       "    <tr>\n",
       "      <th>18</th>\n",
       "      <td>18</td>\n",
       "      <td>33.946616</td>\n",
       "    </tr>\n",
       "  </tbody>\n",
       "</table>\n",
       "</div>"
      ],
      "text/plain": [
       "    edad  media_ingresos_totales_USD\n",
       "0      0                    0.000000\n",
       "1      1                    0.000000\n",
       "2      2                    0.000000\n",
       "3      3                    0.000000\n",
       "4      4                    0.000000\n",
       "5      5                    0.000000\n",
       "6      6                    0.000000\n",
       "7      7                    0.000000\n",
       "8      8                    0.000000\n",
       "9      9                    0.000000\n",
       "10    10                    0.000000\n",
       "11    11                    1.737319\n",
       "12    12                    1.516802\n",
       "13    13                    6.345541\n",
       "14    14                    7.119501\n",
       "15    15                    7.240879\n",
       "16    16                   16.011542\n",
       "17    17                   13.593946\n",
       "18    18                   33.946616"
      ]
     },
     "execution_count": 75,
     "metadata": {},
     "output_type": "execute_result"
    }
   ],
   "source": [
    "# Calculamos el salario medio por  grupo etario y exploramos \n",
    "mediasalario = datos.groupby('edad')['ingresos_totales_USD'].mean() #Calcular el número de nulos por edad\n",
    "medsalarios = mediasalario.to_frame() #Convertir serie en data frame\n",
    "medsalarios = medsalarios.reset_index()\n",
    "medsalarios = medsalarios.rename(columns={'ingresos_totales_USD': 'media_ingresos_totales_USD'})\n",
    "medsalarios.head(19)"
   ]
  },
  {
   "cell_type": "code",
   "execution_count": 76,
   "id": "fb7e92a5",
   "metadata": {},
   "outputs": [
    {
     "data": {
      "text/plain": [
       "Text(0.5, 0, 'Edad')"
      ]
     },
     "execution_count": 76,
     "metadata": {},
     "output_type": "execute_result"
    },
    {
     "data": {
      "image/png": "[encoded data removed]",
      "text/plain": [
       "<Figure size 2500x400 with 1 Axes>"
      ]
     },
     "metadata": {},
     "output_type": "display_data"
    }
   ],
   "source": [
    "# Graficamos los salarios medios por grupo etario y vemos que los grupos etarios menores a 18 años poseen salarios igual a cero o\n",
    "# muy bajos\n",
    "plt.figure(figsize=(25, 4))\n",
    "plt.bar(\"edad\", \"media_ingresos_totales_USD\", data=medsalarios, color=\"#EEA5A6\")\n",
    "plt.title('Media de ingresos totales en USD discriminados por edad', size=24, pad=15)\n",
    "plt.ylabel('Ingresos totales USD', size=16)\n",
    "plt.xlabel('Edad', size=16)"
   ]
  },
  {
   "cell_type": "markdown",
   "id": "0c5a2f3a",
   "metadata": {},
   "source": [
    "Para evitar una subestimación de las medias de las variables de ingresos. Estimamos los estadísticos teniendo en cuenta sólo los individuos en edad laboral (>=18) "
   ]
  },
  {
   "cell_type": "code",
   "execution_count": 77,
   "id": "5acbf010",
   "metadata": {},
   "outputs": [
    {
     "data": {
      "text/html": [
       "<div>\n",
       "<style scoped>\n",
       "    .dataframe tbody tr th:only-of-type {\n",
       "        vertical-align: middle;\n",
       "    }\n",
       "\n",
       "    .dataframe tbody tr th {\n",
       "        vertical-align: top;\n",
       "    }\n",
       "\n",
       "    .dataframe thead th {\n",
       "        text-align: right;\n",
       "    }\n",
       "</style>\n",
       "<table border=\"1\" class=\"dataframe\">\n",
       "  <thead>\n",
       "    <tr style=\"text-align: right;\">\n",
       "      <th></th>\n",
       "      <th>id</th>\n",
       "      <th>nhogar</th>\n",
       "      <th>miembro</th>\n",
       "      <th>comuna</th>\n",
       "      <th>edad</th>\n",
       "      <th>ingreso_total_lab</th>\n",
       "      <th>ingreso_total_no_lab</th>\n",
       "      <th>ingresos_totales</th>\n",
       "      <th>ingresos_familiares</th>\n",
       "      <th>ingreso_per_capita_familiar</th>\n",
       "      <th>años_escolaridad</th>\n",
       "      <th>cantidad_hijos_nac_vivos</th>\n",
       "      <th>ingreso_total_lab_USD</th>\n",
       "      <th>ingreso_total_no_lab_USD</th>\n",
       "      <th>ingresos_totales_USD</th>\n",
       "      <th>ingresos_familiares_USD</th>\n",
       "      <th>ingreso_per_capita_familiar_USD</th>\n",
       "    </tr>\n",
       "  </thead>\n",
       "  <tbody>\n",
       "    <tr>\n",
       "      <th>count</th>\n",
       "      <td>11159.000000</td>\n",
       "      <td>11159.000000</td>\n",
       "      <td>11159.000000</td>\n",
       "      <td>11159.000000</td>\n",
       "      <td>11159.000000</td>\n",
       "      <td>11159.000000</td>\n",
       "      <td>11159.000000</td>\n",
       "      <td>11159.000000</td>\n",
       "      <td>11159.000000</td>\n",
       "      <td>11159.000000</td>\n",
       "      <td>11159.000000</td>\n",
       "      <td>11159.000000</td>\n",
       "      <td>11159.000000</td>\n",
       "      <td>11159.000000</td>\n",
       "      <td>11159.000000</td>\n",
       "      <td>11159.000000</td>\n",
       "      <td>11159.000000</td>\n",
       "    </tr>\n",
       "    <tr>\n",
       "      <th>mean</th>\n",
       "      <td>2900.818801</td>\n",
       "      <td>1.009230</td>\n",
       "      <td>1.699167</td>\n",
       "      <td>7.698002</td>\n",
       "      <td>46.975087</td>\n",
       "      <td>25714.396631</td>\n",
       "      <td>7611.874989</td>\n",
       "      <td>33326.271619</td>\n",
       "      <td>71582.341070</td>\n",
       "      <td>28953.352720</td>\n",
       "      <td>12.990949</td>\n",
       "      <td>0.799534</td>\n",
       "      <td>405.909970</td>\n",
       "      <td>120.155880</td>\n",
       "      <td>526.065850</td>\n",
       "      <td>1129.950135</td>\n",
       "      <td>457.037928</td>\n",
       "    </tr>\n",
       "    <tr>\n",
       "      <th>std</th>\n",
       "      <td>1583.720781</td>\n",
       "      <td>0.131194</td>\n",
       "      <td>0.942661</td>\n",
       "      <td>4.285875</td>\n",
       "      <td>18.942406</td>\n",
       "      <td>37413.999396</td>\n",
       "      <td>17787.264136</td>\n",
       "      <td>39112.362782</td>\n",
       "      <td>62878.431296</td>\n",
       "      <td>29283.843602</td>\n",
       "      <td>3.618331</td>\n",
       "      <td>1.315472</td>\n",
       "      <td>590.591940</td>\n",
       "      <td>280.777650</td>\n",
       "      <td>617.401149</td>\n",
       "      <td>992.556137</td>\n",
       "      <td>462.254832</td>\n",
       "    </tr>\n",
       "    <tr>\n",
       "      <th>min</th>\n",
       "      <td>1.000000</td>\n",
       "      <td>1.000000</td>\n",
       "      <td>1.000000</td>\n",
       "      <td>1.000000</td>\n",
       "      <td>18.000000</td>\n",
       "      <td>0.000000</td>\n",
       "      <td>0.000000</td>\n",
       "      <td>0.000000</td>\n",
       "      <td>0.000000</td>\n",
       "      <td>0.000000</td>\n",
       "      <td>0.000000</td>\n",
       "      <td>0.000000</td>\n",
       "      <td>0.000000</td>\n",
       "      <td>0.000000</td>\n",
       "      <td>0.000000</td>\n",
       "      <td>0.000000</td>\n",
       "      <td>0.000000</td>\n",
       "    </tr>\n",
       "    <tr>\n",
       "      <th>25%</th>\n",
       "      <td>1612.000000</td>\n",
       "      <td>1.000000</td>\n",
       "      <td>1.000000</td>\n",
       "      <td>4.000000</td>\n",
       "      <td>31.000000</td>\n",
       "      <td>0.000000</td>\n",
       "      <td>0.000000</td>\n",
       "      <td>12000.000000</td>\n",
       "      <td>32000.000000</td>\n",
       "      <td>12300.000000</td>\n",
       "      <td>12.000000</td>\n",
       "      <td>0.000000</td>\n",
       "      <td>0.000000</td>\n",
       "      <td>0.000000</td>\n",
       "      <td>189.423836</td>\n",
       "      <td>505.130229</td>\n",
       "      <td>194.159432</td>\n",
       "    </tr>\n",
       "    <tr>\n",
       "      <th>50%</th>\n",
       "      <td>2936.000000</td>\n",
       "      <td>1.000000</td>\n",
       "      <td>1.000000</td>\n",
       "      <td>8.000000</td>\n",
       "      <td>44.000000</td>\n",
       "      <td>16000.000000</td>\n",
       "      <td>0.000000</td>\n",
       "      <td>25000.000000</td>\n",
       "      <td>56000.000000</td>\n",
       "      <td>22000.000000</td>\n",
       "      <td>13.000000</td>\n",
       "      <td>0.000000</td>\n",
       "      <td>252.565114</td>\n",
       "      <td>0.000000</td>\n",
       "      <td>394.632991</td>\n",
       "      <td>883.977901</td>\n",
       "      <td>347.277032</td>\n",
       "    </tr>\n",
       "    <tr>\n",
       "      <th>75%</th>\n",
       "      <td>4179.000000</td>\n",
       "      <td>1.000000</td>\n",
       "      <td>2.000000</td>\n",
       "      <td>11.000000</td>\n",
       "      <td>62.000000</td>\n",
       "      <td>38000.000000</td>\n",
       "      <td>11000.000000</td>\n",
       "      <td>44000.000000</td>\n",
       "      <td>90000.000000</td>\n",
       "      <td>36500.000000</td>\n",
       "      <td>16.000000</td>\n",
       "      <td>2.000000</td>\n",
       "      <td>599.842147</td>\n",
       "      <td>173.638516</td>\n",
       "      <td>694.554065</td>\n",
       "      <td>1420.678769</td>\n",
       "      <td>576.164167</td>\n",
       "    </tr>\n",
       "    <tr>\n",
       "      <th>max</th>\n",
       "      <td>5795.000000</td>\n",
       "      <td>7.000000</td>\n",
       "      <td>15.000000</td>\n",
       "      <td>15.000000</td>\n",
       "      <td>100.000000</td>\n",
       "      <td>1000000.000000</td>\n",
       "      <td>500000.000000</td>\n",
       "      <td>1000000.000000</td>\n",
       "      <td>1000000.000000</td>\n",
       "      <td>1000000.000000</td>\n",
       "      <td>19.000000</td>\n",
       "      <td>15.000000</td>\n",
       "      <td>15785.319653</td>\n",
       "      <td>7892.659826</td>\n",
       "      <td>15785.319653</td>\n",
       "      <td>15785.319653</td>\n",
       "      <td>15785.319653</td>\n",
       "    </tr>\n",
       "  </tbody>\n",
       "</table>\n",
       "</div>"
      ],
      "text/plain": [
       "                 id        nhogar       miembro        comuna          edad  \\\n",
       "count  11159.000000  11159.000000  11159.000000  11159.000000  11159.000000   \n",
       "mean    2900.818801      1.009230      1.699167      7.698002     46.975087   \n",
       "std     1583.720781      0.131194      0.942661      4.285875     18.942406   \n",
       "min        1.000000      1.000000      1.000000      1.000000     18.000000   \n",
       "25%     1612.000000      1.000000      1.000000      4.000000     31.000000   \n",
       "50%     2936.000000      1.000000      1.000000      8.000000     44.000000   \n",
       "75%     4179.000000      1.000000      2.000000     11.000000     62.000000   \n",
       "max     5795.000000      7.000000     15.000000     15.000000    100.000000   \n",
       "\n",
       "       ingreso_total_lab  ingreso_total_no_lab  ingresos_totales  \\\n",
       "count       11159.000000          11159.000000      11159.000000   \n",
       "mean        25714.396631           7611.874989      33326.271619   \n",
       "std         37413.999396          17787.264136      39112.362782   \n",
       "min             0.000000              0.000000          0.000000   \n",
       "25%             0.000000              0.000000      12000.000000   \n",
       "50%         16000.000000              0.000000      25000.000000   \n",
       "75%         38000.000000          11000.000000      44000.000000   \n",
       "max       1000000.000000         500000.000000    1000000.000000   \n",
       "\n",
       "       ingresos_familiares  ingreso_per_capita_familiar  años_escolaridad  \\\n",
       "count         11159.000000                 11159.000000      11159.000000   \n",
       "mean          71582.341070                 28953.352720         12.990949   \n",
       "std           62878.431296                 29283.843602          3.618331   \n",
       "min               0.000000                     0.000000          0.000000   \n",
       "25%           32000.000000                 12300.000000         12.000000   \n",
       "50%           56000.000000                 22000.000000         13.000000   \n",
       "75%           90000.000000                 36500.000000         16.000000   \n",
       "max         1000000.000000               1000000.000000         19.000000   \n",
       "\n",
       "       cantidad_hijos_nac_vivos  ingreso_total_lab_USD  \\\n",
       "count              11159.000000           11159.000000   \n",
       "mean                   0.799534             405.909970   \n",
       "std                    1.315472             590.591940   \n",
       "min                    0.000000               0.000000   \n",
       "25%                    0.000000               0.000000   \n",
       "50%                    0.000000             252.565114   \n",
       "75%                    2.000000             599.842147   \n",
       "max                   15.000000           15785.319653   \n",
       "\n",
       "       ingreso_total_no_lab_USD  ingresos_totales_USD  \\\n",
       "count              11159.000000          11159.000000   \n",
       "mean                 120.155880            526.065850   \n",
       "std                  280.777650            617.401149   \n",
       "min                    0.000000              0.000000   \n",
       "25%                    0.000000            189.423836   \n",
       "50%                    0.000000            394.632991   \n",
       "75%                  173.638516            694.554065   \n",
       "max                 7892.659826          15785.319653   \n",
       "\n",
       "       ingresos_familiares_USD  ingreso_per_capita_familiar_USD  \n",
       "count             11159.000000                     11159.000000  \n",
       "mean               1129.950135                       457.037928  \n",
       "std                 992.556137                       462.254832  \n",
       "min                   0.000000                         0.000000  \n",
       "25%                 505.130229                       194.159432  \n",
       "50%                 883.977901                       347.277032  \n",
       "75%                1420.678769                       576.164167  \n",
       "max               15785.319653                     15785.319653  "
      ]
     },
     "execution_count": 77,
     "metadata": {},
     "output_type": "execute_result"
    }
   ],
   "source": [
    " # Creamos un nuevo data frame con los datos solo de individuos en edad laboral\n",
    "datoslab = datos[(datos['edad']>=18)]\n",
    "datoslab.describe()"
   ]
  },
  {
   "cell_type": "markdown",
   "id": "b7247a1c",
   "metadata": {},
   "source": [
    "Del resumen estadístico para los datos de mayores de 18 años podemos destacar: \n",
    "*  **edad:** la edad promedio de las personas mayores de edad fue de aproximadamente 47 años. La edad mínima fue de 18 años y la máxima de 100 años. El 50% de las personas se ubicó por debajo de los 44 años de edad.\n",
    "*  **ingreso_total_lab_USD:** el ingreso en blanco promedio por individuo en edad laboral fue de 403 USD, el 50 % de las personas tuvo un sueldo menor a 253 USD (mediana). El ingreso máximo registrado fue de 15785 USD.\n",
    "*  **ingreso_total_no_lab_USD:** el ingreso en negro promedio por individuo en edad laboral fue de 120 USD, el 50 % de las personas tuvo sueldos iguales a 0 USD (mediana). El ingreso en negro máximo registrado fue de 7893 USD.\n",
    "*  **ingresos_totales_USD:** el ingreso total promedio por individuo en edad laboral fue de 522 USD, el 50 % de las personas tuvo sueldos menores a 395 USD (mediana). El ingreso total máximo registrado fue de 15785 USD.\n",
    "*  **ingresos_familiares_USD:** el ingreso total promedio por familia fue de 1127 USD, el 50 % de los registros tuvo ingresos menores a 876 USD (mediana). El ingreso familiar máximo registrado fue de 15785 USD.\n",
    "*  **ingreso_per_capita_familiar_USD:** el ingreso total percibido por persona en una familia fue de 455 USD, el 50 % de los registros tuvo ingresos menores a 344 USD (mediana). El ingreso per cápita máximo registrado fue de 15785 USD.\n",
    "\n",
    "**Para observar la distribución de los datos de cada variable mirar los boxplots abajo**"
   ]
  },
  {
   "cell_type": "markdown",
   "id": "3230f170",
   "metadata": {},
   "source": [
    "## Outliers"
   ]
  },
  {
   "cell_type": "markdown",
   "id": "8d078082",
   "metadata": {},
   "source": [
    "En el data set tenemos un valor atípico en las variables de ingreso que corresponde a un hogar compuesto por un sólo miembro (id = 3472). Decidimos eliminarlo. "
   ]
  },
  {
   "cell_type": "code",
   "execution_count": 78,
   "id": "8355396b",
   "metadata": {},
   "outputs": [],
   "source": [
    "#Eliminamos el registro con el valor atípico\n",
    "datos = datos[datos['id'] != 3472]"
   ]
  },
  {
   "cell_type": "code",
   "execution_count": 79,
   "id": "fbc164f0",
   "metadata": {},
   "outputs": [],
   "source": [
    "#Volvemos a filtrar los datos para mayores de edad\n",
    "datoslab = datos[(datos['edad']>=18)]"
   ]
  },
  {
   "cell_type": "markdown",
   "id": "eba258aa",
   "metadata": {},
   "source": [
    "### Gráficos"
   ]
  },
  {
   "cell_type": "markdown",
   "id": "7526470f",
   "metadata": {},
   "source": [
    "#### Variables demográficas y educativas (Todos los datos)"
   ]
  },
  {
   "cell_type": "code",
   "execution_count": 80,
   "id": "71be9281",
   "metadata": {},
   "outputs": [
    {
     "data": {
      "image/png": "[encoded data removed]",
      "text/plain": [
       "<Figure size 1000x100 with 1 Axes>"
      ]
     },
     "metadata": {},
     "output_type": "display_data"
    },
    {
     "data": {
      "text/plain": [
       "<Figure size 640x480 with 0 Axes>"
      ]
     },
     "metadata": {},
     "output_type": "display_data"
    },
    {
     "data": {
      "image/png": "[encoded data removed]",
      "text/plain": [
       "<Figure size 1000x100 with 1 Axes>"
      ]
     },
     "metadata": {},
     "output_type": "display_data"
    },
    {
     "data": {
      "text/plain": [
       "<Figure size 640x480 with 0 Axes>"
      ]
     },
     "metadata": {},
     "output_type": "display_data"
    },
    {
     "data": {
      "image/png": "[encoded data removed]",
      "text/plain": [
       "<Figure size 1000x100 with 1 Axes>"
      ]
     },
     "metadata": {},
     "output_type": "display_data"
    },
    {
     "data": {
      "text/plain": [
       "<Figure size 640x480 with 0 Axes>"
      ]
     },
     "metadata": {},
     "output_type": "display_data"
    }
   ],
   "source": [
    "plt.figure(figsize=(10, 1)) # tamaño de figura\n",
    "\n",
    "# Subgráfico 1\n",
    "sns.boxplot(x=\"edad\", data=datos, color=\"#EEA5A6\")\n",
    "plt.title('Edad', size=16, pad=15)\n",
    "plt.xlabel('Años', size=12)\n",
    "plt.ylabel('', size=12)\n",
    "sns.despine()\n",
    "plt.show()\n",
    "sns.despine()\n",
    "\n",
    "plt.figure(figsize=(10, 1)) \n",
    "# Subgráfico 2\n",
    "sns.boxplot(x=\"cantidad_hijos_nac_vivos\", data=datos, color=\"#B784B7\")\n",
    "plt.title('Cantidad de hijos nacidos vivos', size=16, pad=15)\n",
    "plt.xlabel('Número', size=12)\n",
    "plt.ylabel('', size=12)\n",
    "sns.despine()\n",
    "plt.show()\n",
    "sns.despine()\n",
    "\n",
    "plt.figure(figsize=(10, 1)) \n",
    "# Subgráfico 3\n",
    "sns.boxplot(x=\"años_escolaridad\", data=datos,color=\"#E493B3\")\n",
    "plt.title('Años de escolaridad', size=16, pad=15)\n",
    "plt.xlabel('Años', size=12)\n",
    "plt.ylabel('', size=12)\n",
    "plt\n",
    "sns.despine()\n",
    "plt.show()\n",
    "sns.despine()\n",
    "\n",
    "\n",
    "plt.tight_layout()  #  ajustar automáticamente el diseño de los subgráficos para evitar solapamientos\n",
    "plt.show()"
   ]
  },
  {
   "cell_type": "markdown",
   "id": "414d7bf9",
   "metadata": {},
   "source": [
    "#### Variables económicas (Datos mayores de edad)"
   ]
  },
  {
   "cell_type": "code",
   "execution_count": 81,
   "id": "93a9cd91",
   "metadata": {},
   "outputs": [],
   "source": [
    "mediatotales= round(datoslab['ingresos_totales_USD'].mean(),2)\n",
    "mediatotaleslab= round(datoslab['ingreso_total_lab_USD'].mean(),2)\n",
    "mediatotalesnolab= round(datoslab['ingreso_total_no_lab_USD'].mean(),2)\n",
    "mediatotalesfam= round(datoslab['ingresos_familiares_USD'].mean(),2)\n",
    "mediatotalespercap= round(datoslab['ingreso_per_capita_familiar_USD'].mean(),2)"
   ]
  },
  {
   "cell_type": "code",
   "execution_count": 82,
   "id": "384c85b0",
   "metadata": {},
   "outputs": [
    {
     "data": {
      "image/png": "[encoded data removed]",
      "text/plain": [
       "<Figure size 2000x100 with 1 Axes>"
      ]
     },
     "metadata": {},
     "output_type": "display_data"
    },
    {
     "data": {
      "image/png": "[encoded data removed]",
      "text/plain": [
       "<Figure size 2000x100 with 1 Axes>"
      ]
     },
     "metadata": {},
     "output_type": "display_data"
    },
    {
     "data": {
      "image/png": "[encoded data removed]",
      "text/plain": [
       "<Figure size 2000x100 with 1 Axes>"
      ]
     },
     "metadata": {},
     "output_type": "display_data"
    },
    {
     "data": {
      "image/png": "[encoded data removed]",
      "text/plain": [
       "<Figure size 2000x100 with 1 Axes>"
      ]
     },
     "metadata": {},
     "output_type": "display_data"
    },
    {
     "data": {
      "image/png": "[encoded data removed]",
      "text/plain": [
       "<Figure size 2000x100 with 1 Axes>"
      ]
     },
     "metadata": {},
     "output_type": "display_data"
    },
    {
     "data": {
      "text/plain": [
       "<Figure size 640x480 with 0 Axes>"
      ]
     },
     "metadata": {},
     "output_type": "display_data"
    }
   ],
   "source": [
    "\n",
    "plt.figure(figsize=(20, 1)) # tamaño de figura\n",
    "\n",
    "# Subgráfico 1\n",
    "totales = sns.boxplot(x=\"ingresos_totales_USD\", data=datoslab)\n",
    "plt.title('Ingreso total por persona (USD)', size=18, pad=15)\n",
    "plt.xlabel('$USD', size=12)\n",
    "plt.ylabel('', size=12)\n",
    "totales.axvline(x = mediatotales, color=\"red\")\n",
    "sns.despine()\n",
    "plt.show()\n",
    "\n",
    "plt.figure(figsize=(20, 1)) \n",
    "# Subgráfico 2\n",
    "lab = sns.boxplot(x=\"ingreso_total_lab_USD\", data=datoslab)\n",
    "plt.title('Ingreso total en blanco por persona (USD)', size=18, pad=15)\n",
    "plt.xlabel('$USD', size=12)\n",
    "plt.ylabel('', size=12)\n",
    "lab.axvline(x = mediatotaleslab, color=\"red\")\n",
    "sns.despine()\n",
    "plt.show()\n",
    "\n",
    "\n",
    "plt.figure(figsize=(20, 1)) \n",
    "# Subgráfico 3\n",
    "nolab=sns.boxplot(x=\"ingreso_total_no_lab_USD\", data=datoslab)\n",
    "plt.title('Ingreso total en negro por persona (USD)', size=18, pad=15)\n",
    "plt.xlabel('$USD', size=12)\n",
    "plt.ylabel('', size=12)\n",
    "nolab.axvline(x = mediatotalesnolab, color=\"red\")\n",
    "sns.despine()\n",
    "plt.show()\n",
    "\n",
    "\n",
    "plt.figure(figsize=(20, 1)) \n",
    "# Subgráfico 4\n",
    "fam=sns.boxplot(x=\"ingresos_familiares_USD\", data=datoslab)\n",
    "plt.title('Ingreso familiares (USD)', size=18, pad=15)\n",
    "plt.xlabel('$USD', size=12)\n",
    "plt.ylabel('', size=12)\n",
    "fam.axvline(x = mediatotalesfam, color=\"red\")\n",
    "sns.despine()\n",
    "plt.show()\n",
    "\n",
    "\n",
    "plt.figure(figsize=(20, 1))\n",
    "# Subgráfico 5\n",
    "percap=sns.boxplot(x=\"ingreso_per_capita_familiar_USD\", data=datoslab)\n",
    "plt.title('Ingreso per cápita familiar (USD)', size=18, pad=15)\n",
    "plt.xlabel('$USD', size=12)\n",
    "plt.ylabel('', size=12)\n",
    "percap.axvline(x = mediatotalespercap, color=\"red\")\n",
    "sns.despine()\n",
    "plt.show()\n",
    "\n",
    "\n",
    "plt.tight_layout()  #  ajustar automáticamente el diseño de los subgráficos para evitar solapamientos\n",
    "plt.show()\n"
   ]
  },
  {
   "cell_type": "markdown",
   "id": "d8b6060f",
   "metadata": {},
   "source": [
    "Línea roja vertical es la media de cada variable\n",
    "A partir de los gráficos de caja podemos deducir que todas las variables de ingresos presentan una asimetría marcada hacia la derecha. Es decir que la mayoría de los datos se concentran en valores bajos de ingresos."
   ]
  },
  {
   "cell_type": "markdown",
   "id": "95ae703e",
   "metadata": {},
   "source": [
    "#### Ingresos totales por sexo (datos mayores de edad)"
   ]
  },
  {
   "cell_type": "code",
   "execution_count": 83,
   "id": "b5d5d0e7",
   "metadata": {},
   "outputs": [
    {
     "data": {
      "image/png": "[encoded data removed]",
      "text/plain": [
       "<Figure size 400x800 with 1 Axes>"
      ]
     },
     "metadata": {},
     "output_type": "display_data"
    }
   ],
   "source": [
    "# Ingresos totales por sexo\n",
    "boxplot_sexo = datoslab.melt(id_vars='sexo', value_vars=['ingresos_totales_USD'])\n",
    "boxplot_sexo\n",
    "\n",
    "paleta = {'Varon': 'skyblue', 'Mujer': 'pink'}\n",
    "plt.figure(figsize=(4, 8))\n",
    "sns.boxplot(x=\"variable\", y=\"value\", data=boxplot_sexo, palette= paleta, hue='sexo')\n",
    "plt.title('Ingresos totales por sexo', size=14, pad=15)\n",
    "plt.legend(loc='best', frameon=False)\n",
    "plt.xlabel('Sexo', size=12)\n",
    "plt.ylabel('Ingreso', size=12)\n",
    "sns.despine()\n",
    "plt.show()"
   ]
  },
  {
   "cell_type": "markdown",
   "id": "ee71a726",
   "metadata": {},
   "source": [
    "A partir del gráfico podemos decir que la mayoría de los varones parecen percibir un sueldo total mayor al de las mujeres. La dispersión de los datos fue similar para ambos grupos, pero los varones tuvieron valores atípicos superiores a los de las mujeres."
   ]
  },
  {
   "cell_type": "markdown",
   "id": "8fa7444b",
   "metadata": {},
   "source": [
    "#### Relación de la escolaridad y el empleo formal de las personas (datos mayores de edad)"
   ]
  },
  {
   "cell_type": "code",
   "execution_count": 84,
   "id": "c2c5caee",
   "metadata": {},
   "outputs": [
    {
     "data": {
      "image/png": "[encoded data removed]",
      "text/plain": [
       "<Figure size 800x800 with 1 Axes>"
      ]
     },
     "metadata": {},
     "output_type": "display_data"
    }
   ],
   "source": [
    "# Relación de la escolaridad y el empleo formal de las personas\n",
    "# Realizamos un data frame que contenga las medias de ingreso en blanco por año de escolaridad\n",
    "medias_escolaridad1 = datoslab.groupby([\"años_escolaridad\"])[\"ingreso_total_lab_USD\"].mean()\n",
    "medias_escolaridad1\n",
    "medias_escolaridad1 = medias_escolaridad1.to_frame() #Convertir serie en data frame\n",
    "medias_escolaridad1 = medias_escolaridad1.reset_index()\n",
    "\n",
    "# Graficamos la relación entre dos variables\n",
    "plt.figure(figsize=(8, 8))\n",
    "plt.scatter('años_escolaridad','ingreso_total_lab_USD', marker='o', data=medias_escolaridad1, s=200, color=\"#E493B3\")  # Crear el gráfico de dispersión\n",
    "plt.xlabel('Años de escolaridad', size=14)  # Etiqueta del eje x\n",
    "plt.ylabel('Ingreso laboral en blanco (USD)', size=14)  # Etiqueta del eje y\n",
    "plt.title('Relación entre la escolaridad y el empleo formal', size=16)  # Título del gráfico\n",
    "plt.grid(True)  # Mostrar rejilla\n",
    "plt.show()  # Mostrar el gráfico"
   ]
  },
  {
   "cell_type": "code",
   "execution_count": 85,
   "id": "70f94de7",
   "metadata": {},
   "outputs": [
    {
     "data": {
      "text/html": [
       "<div>\n",
       "<style scoped>\n",
       "    .dataframe tbody tr th:only-of-type {\n",
       "        vertical-align: middle;\n",
       "    }\n",
       "\n",
       "    .dataframe tbody tr th {\n",
       "        vertical-align: top;\n",
       "    }\n",
       "\n",
       "    .dataframe thead th {\n",
       "        text-align: right;\n",
       "    }\n",
       "</style>\n",
       "<table border=\"1\" class=\"dataframe\">\n",
       "  <thead>\n",
       "    <tr style=\"text-align: right;\">\n",
       "      <th></th>\n",
       "      <th>años_escolaridad</th>\n",
       "      <th>ingreso_total_lab_USD</th>\n",
       "    </tr>\n",
       "  </thead>\n",
       "  <tbody>\n",
       "    <tr>\n",
       "      <th>años_escolaridad</th>\n",
       "      <td>1.000000</td>\n",
       "      <td>0.400631</td>\n",
       "    </tr>\n",
       "    <tr>\n",
       "      <th>ingreso_total_lab_USD</th>\n",
       "      <td>0.400631</td>\n",
       "      <td>1.000000</td>\n",
       "    </tr>\n",
       "  </tbody>\n",
       "</table>\n",
       "</div>"
      ],
      "text/plain": [
       "                       años_escolaridad  ingreso_total_lab_USD\n",
       "años_escolaridad               1.000000               0.400631\n",
       "ingreso_total_lab_USD          0.400631               1.000000"
      ]
     },
     "execution_count": 85,
     "metadata": {},
     "output_type": "execute_result"
    }
   ],
   "source": [
    "datoslab[[\"años_escolaridad\",\"ingreso_total_lab_USD\"]].corr(method='pearson')"
   ]
  },
  {
   "cell_type": "markdown",
   "id": "ba18ae11",
   "metadata": {},
   "source": [
    "A partir del gráfico y del valor del coeficiente de correlación de Pearson podemos decir que existe una relación positiva entre la escolaridad de las personas y el ingreso en blanco que perciben. La relación parece ser no lineal y exponencial."
   ]
  },
  {
   "cell_type": "markdown",
   "id": "8821fe60",
   "metadata": {},
   "source": [
    "## Transformación de variables categóricas"
   ]
  },
  {
   "cell_type": "markdown",
   "id": "32077ab5",
   "metadata": {},
   "source": [
    "### Sexo"
   ]
  },
  {
   "cell_type": "code",
   "execution_count": 86,
   "id": "76a9f683",
   "metadata": {},
   "outputs": [
    {
     "data": {
      "text/plain": [
       "array(['Mujer', 'Varon'], dtype=object)"
      ]
     },
     "execution_count": 86,
     "metadata": {},
     "output_type": "execute_result"
    }
   ],
   "source": [
    "datos[\"sexo\"].unique()"
   ]
  },
  {
   "cell_type": "code",
   "execution_count": 87,
   "id": "efd56cbb",
   "metadata": {},
   "outputs": [],
   "source": [
    "from sklearn.preprocessing import LabelEncoder"
   ]
  },
  {
   "cell_type": "code",
   "execution_count": 88,
   "id": "5800820a",
   "metadata": {},
   "outputs": [],
   "source": [
    "encoder= LabelEncoder()"
   ]
  },
  {
   "cell_type": "code",
   "execution_count": 89,
   "id": "4f578780",
   "metadata": {},
   "outputs": [],
   "source": [
    "datos.loc[:,\"sexo\"]= encoder.fit_transform(datos[\"sexo\"])"
   ]
  },
  {
   "cell_type": "code",
   "execution_count": 90,
   "id": "5eab1625",
   "metadata": {},
   "outputs": [
    {
     "data": {
      "text/plain": [
       "array([0, 1], dtype=object)"
      ]
     },
     "execution_count": 90,
     "metadata": {},
     "output_type": "execute_result"
    }
   ],
   "source": [
    "datos[\"sexo\"].unique()"
   ]
  },
  {
   "cell_type": "markdown",
   "id": "ff0312e8",
   "metadata": {},
   "source": [
    "### parentesco_jefe"
   ]
  },
  {
   "cell_type": "code",
   "execution_count": 91,
   "id": "29345d18",
   "metadata": {},
   "outputs": [
    {
     "data": {
      "text/plain": [
       "array(['Jefe', 'Otro no familiar', 'Padre/Madre/Suegro/a',\n",
       "       'Otro familiar', 'Conyugue o pareja', 'Hijo/a - Hijastro/a',\n",
       "       'Nieto/a', 'Yerno/nuera', 'Servicio domestico y sus familiares'],\n",
       "      dtype=object)"
      ]
     },
     "execution_count": 91,
     "metadata": {},
     "output_type": "execute_result"
    }
   ],
   "source": [
    "datos[\"parentesco_jefe\"].unique()"
   ]
  },
  {
   "cell_type": "code",
   "execution_count": 92,
   "id": "357a5342",
   "metadata": {},
   "outputs": [],
   "source": [
    "encoder= LabelEncoder()"
   ]
  },
  {
   "cell_type": "code",
   "execution_count": 93,
   "id": "d5fbda75",
   "metadata": {},
   "outputs": [],
   "source": [
    "datos.loc[:,\"parentesco_jefe\"]= encoder.fit_transform(datos[\"parentesco_jefe\"])"
   ]
  },
  {
   "cell_type": "code",
   "execution_count": 94,
   "id": "95d3f268",
   "metadata": {},
   "outputs": [
    {
     "data": {
      "text/plain": [
       "array([2, 5, 6, 4, 0, 1, 3, 8, 7], dtype=object)"
      ]
     },
     "execution_count": 94,
     "metadata": {},
     "output_type": "execute_result"
    }
   ],
   "source": [
    "datos['parentesco_jefe'].unique()"
   ]
  }
 ],
 "metadata": {
  "kernelspec": {
   "display_name": "Python 3 (ipykernel)",
   "language": "python",
   "name": "python3"
  },
  "language_info": {
   "codemirror_mode": {
    "name": "ipython",
    "version": 3
   },
   "file_extension": ".py",
   "mimetype": "text/x-python",
   "name": "python",
   "nbconvert_exporter": "python",
   "pygments_lexer": "ipython3",
   "version": "3.11.7"
  }
 },
 "nbformat": 4,
 "nbformat_minor": 5
}
